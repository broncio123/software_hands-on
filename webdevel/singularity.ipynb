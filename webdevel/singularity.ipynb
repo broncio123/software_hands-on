{
 "cells": [
  {
   "cell_type": "markdown",
   "id": "cf01c5f1",
   "metadata": {},
   "source": [
    "# Getting started"
   ]
  },
  {
   "cell_type": "markdown",
   "id": "3e79c263",
   "metadata": {},
   "source": [
    "Source: Official documentation [link](https://sylabs.io/guides/3.5/user-guide/quick_start.html#quick-start)"
   ]
  },
  {
   "cell_type": "markdown",
   "id": "2d883972",
   "metadata": {},
   "source": [
    "Download docker version of container image"
   ]
  },
  {
   "cell_type": "code",
   "execution_count": null,
   "id": "1a7e2438",
   "metadata": {},
   "outputs": [],
   "source": [
    "!singularity pull docker://godlovedc/lolcow"
   ]
  },
  {
   "cell_type": "markdown",
   "id": "ae290125",
   "metadata": {},
   "source": [
    "Container image available in singularity container library"
   ]
  },
  {
   "cell_type": "code",
   "execution_count": null,
   "id": "ca8ec5f8",
   "metadata": {},
   "outputs": [],
   "source": [
    "singularity pull library://sylabsed/examples/lolcow"
   ]
  },
  {
   "cell_type": "markdown",
   "id": "0bbeeeb9",
   "metadata": {},
   "source": [
    "Run built-in script of container"
   ]
  },
  {
   "cell_type": "code",
   "execution_count": 5,
   "id": "3e12009f",
   "metadata": {
    "ExecuteTime": {
     "end_time": "2021-11-14T13:29:12.981045Z",
     "start_time": "2021-11-14T13:29:12.659895Z"
    }
   },
   "outputs": [
    {
     "name": "stdout",
     "output_type": "stream",
     "text": [
      "\u001b[34;1m \u001b[0m\u001b[34;1m_\u001b[0m\u001b[34;1m_\u001b[0m\u001b[34;1m_\u001b[0m\u001b[34;1m_\u001b[0m\u001b[34;1m_\u001b[0m\u001b[34;1m_\u001b[0m\u001b[34;1m_\u001b[0m\u001b[34;1m_\u001b[0m\u001b[34;1m_\u001b[0m\u001b[34;1m_\u001b[0m\u001b[34;1m_\u001b[0m\u001b[34;1m_\u001b[0m\u001b[34;1m_\u001b[0m\u001b[34;1m_\u001b[0m\u001b[34;1m_\u001b[0m\u001b[34;1m_\u001b[0m\u001b[34;1m_\u001b[0m\u001b[34;1m_\u001b[0m\u001b[34;1m_\u001b[0m\u001b[34;1m_\u001b[0m\u001b[36m_\u001b[0m\u001b[36m_\u001b[0m\u001b[36m_\u001b[0m\u001b[36m_\u001b[0m\u001b[36m_\u001b[0m\u001b[36m_\u001b[0m\u001b[36m_\u001b[0m\u001b[36m_\u001b[0m\u001b[36m_\u001b[0m\u001b[36m_\u001b[0m\u001b[36m_\u001b[0m\u001b[36m_\u001b[0m\u001b[36m_\u001b[0m\u001b[36m_\u001b[0m\u001b[36m_\u001b[0m\u001b[36m_\u001b[0m\r\n",
      "\u001b[34;1m/\u001b[0m\u001b[34;1m \u001b[0m\u001b[34;1mY\u001b[0m\u001b[34;1mo\u001b[0m\u001b[34;1mu\u001b[0m\u001b[34;1m \u001b[0m\u001b[34;1mw\u001b[0m\u001b[34;1mi\u001b[0m\u001b[34;1ml\u001b[0m\u001b[34;1ml\u001b[0m\u001b[34;1m \u001b[0m\u001b[34;1mp\u001b[0m\u001b[34;1mi\u001b[0m\u001b[34;1mo\u001b[0m\u001b[34;1mn\u001b[0m\u001b[34;1me\u001b[0m\u001b[34;1me\u001b[0m\u001b[34;1mr\u001b[0m\u001b[36m \u001b[0m\u001b[36mt\u001b[0m\u001b[36mh\u001b[0m\u001b[36me\u001b[0m\u001b[36m \u001b[0m\u001b[36mf\u001b[0m\u001b[36mi\u001b[0m\u001b[36mr\u001b[0m\u001b[36ms\u001b[0m\u001b[36mt\u001b[0m\u001b[36m \u001b[0m\u001b[36mM\u001b[0m\u001b[36ma\u001b[0m\u001b[36mr\u001b[0m\u001b[36mt\u001b[0m\u001b[36mi\u001b[0m\u001b[36ma\u001b[0m\u001b[36mn\u001b[0m\u001b[36m \u001b[0m\u001b[36m\\\u001b[0m\r\n",
      "\u001b[34;1m\\\u001b[0m\u001b[34;1m \u001b[0m\u001b[34;1mc\u001b[0m\u001b[34;1mo\u001b[0m\u001b[34;1ml\u001b[0m\u001b[34;1mo\u001b[0m\u001b[34;1mn\u001b[0m\u001b[34;1my\u001b[0m\u001b[34;1m.\u001b[0m\u001b[34;1m \u001b[0m\u001b[34;1m \u001b[0m\u001b[34;1m \u001b[0m\u001b[34;1m \u001b[0m\u001b[34;1m \u001b[0m\u001b[34;1m \u001b[0m\u001b[36m \u001b[0m\u001b[36m \u001b[0m\u001b[36m \u001b[0m\u001b[36m \u001b[0m\u001b[36m \u001b[0m\u001b[36m \u001b[0m\u001b[36m \u001b[0m\u001b[36m \u001b[0m\u001b[36m \u001b[0m\u001b[36m \u001b[0m\u001b[36m \u001b[0m\u001b[36m \u001b[0m\u001b[36m \u001b[0m\u001b[36m \u001b[0m\u001b[36m \u001b[0m\u001b[36m \u001b[0m\u001b[36m \u001b[0m\u001b[36m \u001b[0m\u001b[36m \u001b[0m\u001b[36m \u001b[0m\u001b[36m \u001b[0m\u001b[36m \u001b[0m\u001b[36m/\u001b[0m\r\n",
      "\u001b[34;1m \u001b[0m\u001b[34;1m-\u001b[0m\u001b[34;1m-\u001b[0m\u001b[34;1m-\u001b[0m\u001b[34;1m-\u001b[0m\u001b[34;1m-\u001b[0m\u001b[34;1m-\u001b[0m\u001b[34;1m-\u001b[0m\u001b[34;1m-\u001b[0m\u001b[34;1m-\u001b[0m\u001b[34;1m-\u001b[0m\u001b[34;1m-\u001b[0m\u001b[36m-\u001b[0m\u001b[36m-\u001b[0m\u001b[36m-\u001b[0m\u001b[36m-\u001b[0m\u001b[36m-\u001b[0m\u001b[36m-\u001b[0m\u001b[36m-\u001b[0m\u001b[36m-\u001b[0m\u001b[36m-\u001b[0m\u001b[36m-\u001b[0m\u001b[36m-\u001b[0m\u001b[36m-\u001b[0m\u001b[36m-\u001b[0m\u001b[36m-\u001b[0m\u001b[36m-\u001b[0m\u001b[36m-\u001b[0m\u001b[36m-\u001b[0m\u001b[36m-\u001b[0m\u001b[36m-\u001b[0m\u001b[36m-\u001b[0m\u001b[36m-\u001b[0m\u001b[36m-\u001b[0m\u001b[36m-\u001b[0m\u001b[36m-\u001b[0m\u001b[36m-\u001b[0m\r\n",
      "\u001b[34;1m \u001b[0m\u001b[34;1m \u001b[0m\u001b[34;1m \u001b[0m\u001b[34;1m \u001b[0m\u001b[34;1m \u001b[0m\u001b[34;1m \u001b[0m\u001b[34;1m \u001b[0m\u001b[34;1m \u001b[0m\u001b[34;1m\\\u001b[0m\u001b[36m \u001b[0m\u001b[36m \u001b[0m\u001b[36m \u001b[0m\u001b[36m^\u001b[0m\u001b[36m_\u001b[0m\u001b[36m_\u001b[0m\u001b[36m^\u001b[0m\r\n",
      "\u001b[34;1m \u001b[0m\u001b[34;1m \u001b[0m\u001b[34;1m \u001b[0m\u001b[34;1m \u001b[0m\u001b[34;1m \u001b[0m\u001b[34;1m \u001b[0m\u001b[36m \u001b[0m\u001b[36m \u001b[0m\u001b[36m \u001b[0m\u001b[36m\\\u001b[0m\u001b[36m \u001b[0m\u001b[36m \u001b[0m\u001b[36m(\u001b[0m\u001b[36mo\u001b[0m\u001b[36mo\u001b[0m\u001b[36m)\u001b[0m\u001b[36m\\\u001b[0m\u001b[36m_\u001b[0m\u001b[36m_\u001b[0m\u001b[36m_\u001b[0m\u001b[36m_\u001b[0m\u001b[36m_\u001b[0m\u001b[36m_\u001b[0m\u001b[36m_\u001b[0m\r\n",
      "\u001b[34;1m \u001b[0m\u001b[34;1m \u001b[0m\u001b[34;1m \u001b[0m\u001b[36m \u001b[0m\u001b[36m \u001b[0m\u001b[36m \u001b[0m\u001b[36m \u001b[0m\u001b[36m \u001b[0m\u001b[36m \u001b[0m\u001b[36m \u001b[0m\u001b[36m \u001b[0m\u001b[36m \u001b[0m\u001b[36m(\u001b[0m\u001b[36m_\u001b[0m\u001b[36m_\u001b[0m\u001b[36m)\u001b[0m\u001b[36m\\\u001b[0m\u001b[36m \u001b[0m\u001b[36m \u001b[0m\u001b[36m \u001b[0m\u001b[36m \u001b[0m\u001b[36m \u001b[0m\u001b[36m \u001b[0m\u001b[36m \u001b[0m\u001b[36m)\u001b[0m\u001b[36m\\\u001b[0m\u001b[36m/\u001b[0m\u001b[36m\\\u001b[0m\r\n",
      "\u001b[36m \u001b[0m\u001b[36m \u001b[0m\u001b[36m \u001b[0m\u001b[36m \u001b[0m\u001b[36m \u001b[0m\u001b[36m \u001b[0m\u001b[36m \u001b[0m\u001b[36m \u001b[0m\u001b[36m \u001b[0m\u001b[36m \u001b[0m\u001b[36m \u001b[0m\u001b[36m \u001b[0m\u001b[36m \u001b[0m\u001b[36m \u001b[0m\u001b[36m \u001b[0m\u001b[36m \u001b[0m\u001b[36m|\u001b[0m\u001b[36m|\u001b[0m\u001b[36m-\u001b[0m\u001b[36m-\u001b[0m\u001b[36m-\u001b[0m\u001b[36m-\u001b[0m\u001b[36mw\u001b[0m\u001b[36m \u001b[0m\u001b[36m|\u001b[0m\r\n",
      "\u001b[36m \u001b[0m\u001b[36m \u001b[0m\u001b[36m \u001b[0m\u001b[36m \u001b[0m\u001b[36m \u001b[0m\u001b[36m \u001b[0m\u001b[36m \u001b[0m\u001b[36m \u001b[0m\u001b[36m \u001b[0m\u001b[36m \u001b[0m\u001b[36m \u001b[0m\u001b[36m \u001b[0m\u001b[36m \u001b[0m\u001b[36m \u001b[0m\u001b[36m \u001b[0m\u001b[36m \u001b[0m\u001b[36m|\u001b[0m\u001b[36m|\u001b[0m\u001b[36m \u001b[0m\u001b[36m \u001b[0m\u001b[36m \u001b[0m\u001b[36m \u001b[0m\u001b[36m \u001b[0m\u001b[36m|\u001b[0m\u001b[36m|\u001b[0m\r\n"
     ]
    }
   ],
   "source": [
    "!singularity run lolcow_latest.sif"
   ]
  },
  {
   "cell_type": "markdown",
   "id": "0f214547",
   "metadata": {},
   "source": [
    "# Working with files"
   ]
  },
  {
   "cell_type": "markdown",
   "id": "1f825b4f",
   "metadata": {},
   "source": [
    "By default singularity bind mounts `$HOME`, `$PWD`, `/tmp`"
   ]
  },
  {
   "cell_type": "code",
   "execution_count": 12,
   "id": "f52befcf",
   "metadata": {
    "ExecuteTime": {
     "end_time": "2021-11-14T13:37:35.486373Z",
     "start_time": "2021-11-14T13:37:35.365496Z"
    }
   },
   "outputs": [],
   "source": [
    "!echo \"Hello from inside the container\" > $HOME/hostfile.txt"
   ]
  },
  {
   "cell_type": "code",
   "execution_count": 13,
   "id": "e9a2d5c0",
   "metadata": {
    "ExecuteTime": {
     "end_time": "2021-11-14T13:38:25.556187Z",
     "start_time": "2021-11-14T13:38:25.309555Z"
    }
   },
   "outputs": [
    {
     "name": "stdout",
     "output_type": "stream",
     "text": [
      "Hello from inside the container\r\n"
     ]
    }
   ],
   "source": [
    "!singularity exec lolcow_latest.sif cat $HOME/hostfile.txt"
   ]
  },
  {
   "cell_type": "code",
   "execution_count": 14,
   "id": "0e044bb2",
   "metadata": {
    "ExecuteTime": {
     "end_time": "2021-11-14T13:39:21.980011Z",
     "start_time": "2021-11-14T13:39:21.967637Z"
    }
   },
   "outputs": [
    {
     "data": {
      "text/plain": [
       "'/data/dragon000/sanjuan/research/software_hands-on/webdevel'"
      ]
     },
     "execution_count": 14,
     "metadata": {},
     "output_type": "execute_result"
    }
   ],
   "source": [
    "pwd"
   ]
  },
  {
   "cell_type": "code",
   "execution_count": 10,
   "id": "21a6921c",
   "metadata": {
    "ExecuteTime": {
     "end_time": "2021-11-14T13:34:14.985245Z",
     "start_time": "2021-11-14T13:34:14.868704Z"
    }
   },
   "outputs": [],
   "source": [
    "!echo \"Drink milk (and never eat hamburgers).\" > ./cow_advice.txt"
   ]
  },
  {
   "cell_type": "code",
   "execution_count": 18,
   "id": "d6cc8455",
   "metadata": {
    "ExecuteTime": {
     "end_time": "2021-11-14T13:41:58.079984Z",
     "start_time": "2021-11-14T13:41:57.846689Z"
    }
   },
   "outputs": [
    {
     "name": "stdout",
     "output_type": "stream",
     "text": [
      "Drink milk (and never eat hamburgers).\r\n"
     ]
    }
   ],
   "source": [
    "!singularity exec --bind $PWD lolcow_latest.sif cat $PWD/cow_advice.txt"
   ]
  },
  {
   "cell_type": "markdown",
   "id": "8210a602",
   "metadata": {},
   "source": [
    "We can reach files in non-default locations by using bind mount"
   ]
  },
  {
   "cell_type": "code",
   "execution_count": 20,
   "id": "5d0f4566",
   "metadata": {
    "ExecuteTime": {
     "end_time": "2021-11-14T13:43:45.342795Z",
     "start_time": "2021-11-14T13:43:45.225441Z"
    }
   },
   "outputs": [
    {
     "name": "stdout",
     "output_type": "stream",
     "text": [
      "/bin/bash: line 1: /mnt/cow_advice.txt: Permission denied\r\n"
     ]
    }
   ],
   "source": [
    "!echo \"Drink milk (and never eat hamburgers).\" > /mnt/cow_advice.txt"
   ]
  },
  {
   "cell_type": "markdown",
   "id": "77c27078",
   "metadata": {},
   "source": [
    "Pipe and redirect"
   ]
  },
  {
   "cell_type": "code",
   "execution_count": 23,
   "id": "753a259c",
   "metadata": {
    "ExecuteTime": {
     "end_time": "2021-11-14T13:53:45.128232Z",
     "start_time": "2021-11-14T13:53:44.847353Z"
    }
   },
   "outputs": [
    {
     "name": "stdout",
     "output_type": "stream",
     "text": [
      " ________________________________________\r\n",
      "< Drink milk (and never eat hamburgers). >\r\n",
      " ----------------------------------------\r\n",
      "        \\   ^__^\r\n",
      "         \\  (oo)\\_______\r\n",
      "            (__)\\       )\\/\\\r\n",
      "                ||----w |\r\n",
      "                ||     ||\r\n"
     ]
    }
   ],
   "source": [
    "!cat $PWD/cow_advice.txt | singularity exec lolcow_latest.sif cowsay"
   ]
  },
  {
   "cell_type": "markdown",
   "id": "509b494d",
   "metadata": {},
   "source": [
    "# Building a container from scratch "
   ]
  },
  {
   "cell_type": "markdown",
   "id": "856b6e44",
   "metadata": {},
   "source": [
    "* singularity image files (`.sif`) are written in a format that makes them immutable. This is done to ensure reproducibility and allow images to be verifiable. \n",
    "* a `sandbox` image (which really is a folder) is a format used for testing and debugging. This allows to work towards building your image and make the necessary changes to satisfaction."
   ]
  },
  {
   "cell_type": "markdown",
   "id": "4ec815fd",
   "metadata": {},
   "source": [
    "## Building a container locally"
   ]
  },
  {
   "cell_type": "markdown",
   "id": "cd4e8c23",
   "metadata": {},
   "source": [
    "Create a sandbox folder called `ubuntu`. <span style=\"color:red\">NOTE</span> this requires `root` access!"
   ]
  },
  {
   "cell_type": "code",
   "execution_count": null,
   "id": "df0c9af6",
   "metadata": {
    "ExecuteTime": {
     "end_time": "2021-11-14T14:46:28.432944Z",
     "start_time": "2021-11-14T14:36:49.378427Z"
    }
   },
   "outputs": [],
   "source": [
    "!singularity build --sandbox ubuntu/ library://ubuntu"
   ]
  },
  {
   "cell_type": "markdown",
   "id": "73389311",
   "metadata": {},
   "source": [
    "Create files within the sandbox folder"
   ]
  },
  {
   "cell_type": "code",
   "execution_count": null,
   "id": "a71c1e1f",
   "metadata": {
    "ExecuteTime": {
     "end_time": "2021-11-14T14:46:28.597620Z",
     "start_time": "2021-11-14T14:46:28.434785Z"
    }
   },
   "outputs": [],
   "source": [
    "!singularity exec --writable ubuntu touch /foos"
   ]
  },
  {
   "cell_type": "markdown",
   "id": "3f13a952",
   "metadata": {},
   "source": [
    "## Buidling a container remotely "
   ]
  },
  {
   "cell_type": "markdown",
   "id": "253d2960",
   "metadata": {},
   "source": [
    "I buit a container using the singulairty [remote server](https://cloud.sylabs.io/builder/) by pasting the content of a definition file below \n",
    "\n",
    "`lolcow.def`\n",
    "\n",
    "```bash\n",
    "BootStrap: library\n",
    "From: ubuntu:16.04\n",
    "\n",
    "%post\n",
    "    apt-get -y update\n",
    "    apt-get -y install fortune cowsay lolcat\n",
    "\n",
    "%environment\n",
    "    export LC_ALL=C\n",
    "    export PATH=/usr/games:$PATH\n",
    "\n",
    "%runscript\n",
    "    fortune | cowsay | lolcat\n",
    "\n",
    "%labels\n",
    "    Author GodloveD\n",
    "\n",
    "```"
   ]
  },
  {
   "cell_type": "markdown",
   "id": "35f221f9",
   "metadata": {},
   "source": [
    "After build, the container image can be simply downloaded from the builder app or just via `singularity pull`"
   ]
  },
  {
   "cell_type": "code",
   "execution_count": null,
   "id": "d1f1bf64",
   "metadata": {},
   "outputs": [],
   "source": [
    "!singularity pull library://broncio/default/image:latest"
   ]
  },
  {
   "cell_type": "markdown",
   "id": "31f76d2e",
   "metadata": {},
   "source": [
    "The remote builder allows you to manage all your generated images too!"
   ]
  },
  {
   "cell_type": "markdown",
   "id": "7e5dd7bb",
   "metadata": {},
   "source": [
    "After pulling, you can run your container"
   ]
  },
  {
   "cell_type": "code",
   "execution_count": 26,
   "id": "c1964b72",
   "metadata": {
    "ExecuteTime": {
     "end_time": "2021-11-14T16:14:18.910597Z",
     "start_time": "2021-11-14T16:14:18.483092Z"
    }
   },
   "outputs": [
    {
     "name": "stdout",
     "output_type": "stream",
     "text": [
      "\u001b[35m \u001b[0m\u001b[35m_\u001b[0m\u001b[35m_\u001b[0m\u001b[35m_\u001b[0m\u001b[35m_\u001b[0m\u001b[34;1m_\u001b[0m\u001b[34;1m_\u001b[0m\u001b[34;1m_\u001b[0m\u001b[34;1m_\u001b[0m\u001b[34;1m_\u001b[0m\u001b[34;1m_\u001b[0m\u001b[34;1m_\u001b[0m\u001b[34;1m_\u001b[0m\u001b[34;1m_\u001b[0m\u001b[34;1m_\u001b[0m\u001b[34;1m_\u001b[0m\u001b[34;1m_\u001b[0m\u001b[34;1m_\u001b[0m\u001b[34;1m_\u001b[0m\u001b[34;1m_\u001b[0m\u001b[34;1m_\u001b[0m\u001b[34;1m_\u001b[0m\u001b[34;1m_\u001b[0m\u001b[34;1m_\u001b[0m\u001b[34;1m_\u001b[0m\u001b[34;1m_\u001b[0m\u001b[34;1m_\u001b[0m\u001b[34;1m_\u001b[0m\u001b[34;1m_\u001b[0m\u001b[34;1m_\u001b[0m\u001b[34;1m_\u001b[0m\u001b[34;1m_\u001b[0m\u001b[34;1m_\u001b[0m\u001b[34;1m_\u001b[0m\u001b[34;1m_\u001b[0m\u001b[34;1m_\u001b[0m\u001b[36m_\u001b[0m\u001b[36m_\u001b[0m\u001b[36m_\u001b[0m\u001b[36m_\u001b[0m\u001b[36m_\u001b[0m\u001b[36m_\u001b[0m\r\n",
      "\u001b[35m/\u001b[0m\u001b[35m \u001b[0m\u001b[34;1mQ\u001b[0m\u001b[34;1m:\u001b[0m\u001b[34;1m \u001b[0m\u001b[34;1mH\u001b[0m\u001b[34;1mo\u001b[0m\u001b[34;1mw\u001b[0m\u001b[34;1m \u001b[0m\u001b[34;1mm\u001b[0m\u001b[34;1ma\u001b[0m\u001b[34;1mn\u001b[0m\u001b[34;1my\u001b[0m\u001b[34;1m \u001b[0m\u001b[34;1ml\u001b[0m\u001b[34;1ma\u001b[0m\u001b[34;1mw\u001b[0m\u001b[34;1my\u001b[0m\u001b[34;1me\u001b[0m\u001b[34;1mr\u001b[0m\u001b[34;1ms\u001b[0m\u001b[34;1m \u001b[0m\u001b[34;1md\u001b[0m\u001b[34;1mo\u001b[0m\u001b[34;1me\u001b[0m\u001b[34;1ms\u001b[0m\u001b[34;1m \u001b[0m\u001b[34;1mi\u001b[0m\u001b[34;1mt\u001b[0m\u001b[34;1m \u001b[0m\u001b[34;1mt\u001b[0m\u001b[34;1ma\u001b[0m\u001b[34;1mk\u001b[0m\u001b[36me\u001b[0m\u001b[36m \u001b[0m\u001b[36mt\u001b[0m\u001b[36mo\u001b[0m\u001b[36m \u001b[0m\u001b[36m \u001b[0m\u001b[36m \u001b[0m\u001b[36m \u001b[0m\u001b[36m \u001b[0m\u001b[36m\\\u001b[0m\r\n",
      "\u001b[34;1m|\u001b[0m\u001b[34;1m \u001b[0m\u001b[34;1mc\u001b[0m\u001b[34;1mh\u001b[0m\u001b[34;1ma\u001b[0m\u001b[34;1mn\u001b[0m\u001b[34;1mg\u001b[0m\u001b[34;1me\u001b[0m\u001b[34;1m \u001b[0m\u001b[34;1ma\u001b[0m\u001b[34;1m \u001b[0m\u001b[34;1ml\u001b[0m\u001b[34;1mi\u001b[0m\u001b[34;1mg\u001b[0m\u001b[34;1mh\u001b[0m\u001b[34;1mt\u001b[0m\u001b[34;1m \u001b[0m\u001b[34;1mb\u001b[0m\u001b[34;1mu\u001b[0m\u001b[34;1ml\u001b[0m\u001b[34;1mb\u001b[0m\u001b[34;1m?\u001b[0m\u001b[34;1m \u001b[0m\u001b[34;1mA\u001b[0m\u001b[34;1m:\u001b[0m\u001b[34;1m \u001b[0m\u001b[34;1mW\u001b[0m\u001b[34;1mh\u001b[0m\u001b[34;1me\u001b[0m\u001b[34;1mr\u001b[0m\u001b[36me\u001b[0m\u001b[36ma\u001b[0m\u001b[36ms\u001b[0m\u001b[36m \u001b[0m\u001b[36mt\u001b[0m\u001b[36mh\u001b[0m\u001b[36me\u001b[0m\u001b[36m \u001b[0m\u001b[36m \u001b[0m\u001b[36m \u001b[0m\u001b[36m \u001b[0m\u001b[36m \u001b[0m\u001b[36m|\u001b[0m\r\n",
      "\u001b[34;1m|\u001b[0m\u001b[34;1m \u001b[0m\u001b[34;1mp\u001b[0m\u001b[34;1ma\u001b[0m\u001b[34;1mr\u001b[0m\u001b[34;1mt\u001b[0m\u001b[34;1my\u001b[0m\u001b[34;1m \u001b[0m\u001b[34;1mo\u001b[0m\u001b[34;1mf\u001b[0m\u001b[34;1m \u001b[0m\u001b[34;1mt\u001b[0m\u001b[34;1mh\u001b[0m\u001b[34;1me\u001b[0m\u001b[34;1m \u001b[0m\u001b[34;1mf\u001b[0m\u001b[34;1mi\u001b[0m\u001b[34;1mr\u001b[0m\u001b[34;1ms\u001b[0m\u001b[34;1mt\u001b[0m\u001b[34;1m \u001b[0m\u001b[34;1mp\u001b[0m\u001b[34;1ma\u001b[0m\u001b[34;1mr\u001b[0m\u001b[34;1mt\u001b[0m\u001b[34;1m,\u001b[0m\u001b[34;1m \u001b[0m\u001b[36ma\u001b[0m\u001b[36ml\u001b[0m\u001b[36ms\u001b[0m\u001b[36mo\u001b[0m\u001b[36m \u001b[0m\u001b[36mk\u001b[0m\u001b[36mn\u001b[0m\u001b[36mo\u001b[0m\u001b[36mw\u001b[0m\u001b[36mn\u001b[0m\u001b[36m \u001b[0m\u001b[36ma\u001b[0m\u001b[36ms\u001b[0m\u001b[36m \u001b[0m\u001b[36m \u001b[0m\u001b[36m|\u001b[0m\r\n",
      "\u001b[34;1m|\u001b[0m\u001b[34;1m \u001b[0m\u001b[34;1m\"\u001b[0m\u001b[34;1mL\u001b[0m\u001b[34;1ma\u001b[0m\u001b[34;1mw\u001b[0m\u001b[34;1my\u001b[0m\u001b[34;1me\u001b[0m\u001b[34;1mr\u001b[0m\u001b[34;1m\"\u001b[0m\u001b[34;1m,\u001b[0m\u001b[34;1m \u001b[0m\u001b[34;1ma\u001b[0m\u001b[34;1mn\u001b[0m\u001b[34;1md\u001b[0m\u001b[34;1m \u001b[0m\u001b[34;1mt\u001b[0m\u001b[34;1mh\u001b[0m\u001b[34;1me\u001b[0m\u001b[34;1m \u001b[0m\u001b[34;1mp\u001b[0m\u001b[34;1ma\u001b[0m\u001b[34;1mr\u001b[0m\u001b[34;1mt\u001b[0m\u001b[36my\u001b[0m\u001b[36m \u001b[0m\u001b[36mo\u001b[0m\u001b[36mf\u001b[0m\u001b[36m \u001b[0m\u001b[36mt\u001b[0m\u001b[36mh\u001b[0m\u001b[36me\u001b[0m\u001b[36m \u001b[0m\u001b[36ms\u001b[0m\u001b[36me\u001b[0m\u001b[36mc\u001b[0m\u001b[36mo\u001b[0m\u001b[36mn\u001b[0m\u001b[36md\u001b[0m\u001b[36m \u001b[0m\u001b[36m \u001b[0m\u001b[36m \u001b[0m\u001b[36m|\u001b[0m\r\n",
      "\u001b[34;1m|\u001b[0m\u001b[34;1m \u001b[0m\u001b[34;1mp\u001b[0m\u001b[34;1ma\u001b[0m\u001b[34;1mr\u001b[0m\u001b[34;1mt\u001b[0m\u001b[34;1m,\u001b[0m\u001b[34;1m \u001b[0m\u001b[34;1ma\u001b[0m\u001b[34;1ml\u001b[0m\u001b[34;1ms\u001b[0m\u001b[34;1mo\u001b[0m\u001b[34;1m \u001b[0m\u001b[34;1mk\u001b[0m\u001b[34;1mn\u001b[0m\u001b[34;1mo\u001b[0m\u001b[34;1mw\u001b[0m\u001b[34;1mn\u001b[0m\u001b[34;1m \u001b[0m\u001b[34;1ma\u001b[0m\u001b[34;1ms\u001b[0m\u001b[36m \u001b[0m\u001b[36m\"\u001b[0m\u001b[36mL\u001b[0m\u001b[36mi\u001b[0m\u001b[36mg\u001b[0m\u001b[36mh\u001b[0m\u001b[36mt\u001b[0m\u001b[36m \u001b[0m\u001b[36mB\u001b[0m\u001b[36mu\u001b[0m\u001b[36ml\u001b[0m\u001b[36mb\u001b[0m\u001b[36m\"\u001b[0m\u001b[36m,\u001b[0m\u001b[36m \u001b[0m\u001b[36md\u001b[0m\u001b[36mo\u001b[0m\u001b[36m \u001b[0m\u001b[36m \u001b[0m\u001b[36m \u001b[0m\u001b[36m \u001b[0m\u001b[36m|\u001b[0m\r\n",
      "\u001b[34;1m|\u001b[0m\u001b[34;1m \u001b[0m\u001b[34;1mh\u001b[0m\u001b[34;1me\u001b[0m\u001b[34;1mr\u001b[0m\u001b[34;1me\u001b[0m\u001b[34;1mb\u001b[0m\u001b[34;1my\u001b[0m\u001b[34;1m \u001b[0m\u001b[34;1ma\u001b[0m\u001b[34;1mn\u001b[0m\u001b[34;1md\u001b[0m\u001b[34;1m \u001b[0m\u001b[34;1mf\u001b[0m\u001b[34;1mo\u001b[0m\u001b[34;1mr\u001b[0m\u001b[34;1mt\u001b[0m\u001b[34;1mh\u001b[0m\u001b[36mw\u001b[0m\u001b[36mi\u001b[0m\u001b[36mt\u001b[0m\u001b[36mh\u001b[0m\u001b[36m \u001b[0m\u001b[36ma\u001b[0m\u001b[36mg\u001b[0m\u001b[36mr\u001b[0m\u001b[36me\u001b[0m\u001b[36me\u001b[0m\u001b[36m \u001b[0m\u001b[36mt\u001b[0m\u001b[36mo\u001b[0m\u001b[36m \u001b[0m\u001b[36ma\u001b[0m\u001b[36m \u001b[0m\u001b[36m \u001b[0m\u001b[36m \u001b[0m\u001b[36m \u001b[0m\u001b[36m \u001b[0m\u001b[36m \u001b[0m\u001b[36m \u001b[0m\u001b[36m \u001b[0m\u001b[36m \u001b[0m\u001b[36m|\u001b[0m\r\n",
      "\u001b[34;1m|\u001b[0m\u001b[34;1m \u001b[0m\u001b[34;1mt\u001b[0m\u001b[34;1mr\u001b[0m\u001b[34;1ma\u001b[0m\u001b[34;1mn\u001b[0m\u001b[34;1ms\u001b[0m\u001b[34;1ma\u001b[0m\u001b[34;1mc\u001b[0m\u001b[34;1mt\u001b[0m\u001b[34;1mi\u001b[0m\u001b[34;1mo\u001b[0m\u001b[34;1mn\u001b[0m\u001b[34;1m \u001b[0m\u001b[34;1mw\u001b[0m\u001b[36mh\u001b[0m\u001b[36me\u001b[0m\u001b[36mr\u001b[0m\u001b[36me\u001b[0m\u001b[36mi\u001b[0m\u001b[36mn\u001b[0m\u001b[36m \u001b[0m\u001b[36mt\u001b[0m\u001b[36mh\u001b[0m\u001b[36me\u001b[0m\u001b[36m \u001b[0m\u001b[36mp\u001b[0m\u001b[36ma\u001b[0m\u001b[36mr\u001b[0m\u001b[36mt\u001b[0m\u001b[36my\u001b[0m\u001b[36m \u001b[0m\u001b[36mo\u001b[0m\u001b[36mf\u001b[0m\u001b[36m \u001b[0m\u001b[36mt\u001b[0m\u001b[36mh\u001b[0m\u001b[36me\u001b[0m\u001b[36m \u001b[0m\u001b[36m \u001b[0m\u001b[36m \u001b[0m\u001b[36m \u001b[0m\u001b[36m|\u001b[0m\r\n",
      "\u001b[34;1m|\u001b[0m\u001b[34;1m \u001b[0m\u001b[34;1ms\u001b[0m\u001b[34;1me\u001b[0m\u001b[34;1mc\u001b[0m\u001b[34;1mo\u001b[0m\u001b[34;1mn\u001b[0m\u001b[34;1md\u001b[0m\u001b[34;1m \u001b[0m\u001b[34;1mp\u001b[0m\u001b[34;1ma\u001b[0m\u001b[34;1mr\u001b[0m\u001b[36mt\u001b[0m\u001b[36m \u001b[0m\u001b[36ms\u001b[0m\u001b[36mh\u001b[0m\u001b[36ma\u001b[0m\u001b[36ml\u001b[0m\u001b[36ml\u001b[0m\u001b[36m \u001b[0m\u001b[36mb\u001b[0m\u001b[36me\u001b[0m\u001b[36m \u001b[0m\u001b[36mr\u001b[0m\u001b[36me\u001b[0m\u001b[36mm\u001b[0m\u001b[36mo\u001b[0m\u001b[36mv\u001b[0m\u001b[36me\u001b[0m\u001b[36md\u001b[0m\u001b[36m \u001b[0m\u001b[36mf\u001b[0m\u001b[36mr\u001b[0m\u001b[36mo\u001b[0m\u001b[36mm\u001b[0m\u001b[36m \u001b[0m\u001b[36mt\u001b[0m\u001b[36mh\u001b[0m\u001b[36me\u001b[0m\u001b[36m \u001b[0m\u001b[36m \u001b[0m\u001b[36m \u001b[0m\u001b[36m|\u001b[0m\r\n",
      "\u001b[34;1m|\u001b[0m\u001b[34;1m \u001b[0m\u001b[34;1mc\u001b[0m\u001b[34;1mu\u001b[0m\u001b[34;1mr\u001b[0m\u001b[34;1mr\u001b[0m\u001b[34;1me\u001b[0m\u001b[34;1mn\u001b[0m\u001b[34;1mt\u001b[0m\u001b[36m \u001b[0m\u001b[36mp\u001b[0m\u001b[36mo\u001b[0m\u001b[36ms\u001b[0m\u001b[36mi\u001b[0m\u001b[36mt\u001b[0m\u001b[36mi\u001b[0m\u001b[36mo\u001b[0m\u001b[36mn\u001b[0m\u001b[36m \u001b[0m\u001b[36ma\u001b[0m\u001b[36ms\u001b[0m\u001b[36m \u001b[0m\u001b[36ma\u001b[0m\u001b[36m \u001b[0m\u001b[36mr\u001b[0m\u001b[36me\u001b[0m\u001b[36ms\u001b[0m\u001b[36mu\u001b[0m\u001b[36ml\u001b[0m\u001b[36mt\u001b[0m\u001b[36m \u001b[0m\u001b[36mo\u001b[0m\u001b[36mf\u001b[0m\u001b[36m \u001b[0m\u001b[36mf\u001b[0m\u001b[36ma\u001b[0m\u001b[36mi\u001b[0m\u001b[36ml\u001b[0m\u001b[36mu\u001b[0m\u001b[36mr\u001b[0m\u001b[36me\u001b[0m\u001b[36m \u001b[0m\u001b[36m|\u001b[0m\r\n",
      "\u001b[34;1m|\u001b[0m\u001b[34;1m \u001b[0m\u001b[34;1mt\u001b[0m\u001b[34;1mo\u001b[0m\u001b[34;1m \u001b[0m\u001b[34;1mp\u001b[0m\u001b[36me\u001b[0m\u001b[36mr\u001b[0m\u001b[36mf\u001b[0m\u001b[36mo\u001b[0m\u001b[36mr\u001b[0m\u001b[36mm\u001b[0m\u001b[36m \u001b[0m\u001b[36mp\u001b[0m\u001b[36mr\u001b[0m\u001b[36me\u001b[0m\u001b[36mv\u001b[0m\u001b[36mi\u001b[0m\u001b[36mo\u001b[0m\u001b[36mu\u001b[0m\u001b[36ms\u001b[0m\u001b[36ml\u001b[0m\u001b[36my\u001b[0m\u001b[36m \u001b[0m\u001b[36ma\u001b[0m\u001b[36mg\u001b[0m\u001b[36mr\u001b[0m\u001b[36me\u001b[0m\u001b[36me\u001b[0m\u001b[36md\u001b[0m\u001b[36m \u001b[0m\u001b[36mu\u001b[0m\u001b[36mp\u001b[0m\u001b[36mo\u001b[0m\u001b[36mn\u001b[0m\u001b[36m \u001b[0m\u001b[36m \u001b[0m\u001b[36m \u001b[0m\u001b[36m \u001b[0m\u001b[36m \u001b[0m\u001b[36m \u001b[0m\u001b[36m \u001b[0m\u001b[36m|\u001b[0m\r\n",
      "\u001b[34;1m|\u001b[0m\u001b[34;1m \u001b[0m\u001b[34;1md\u001b[0m\u001b[36mu\u001b[0m\u001b[36mt\u001b[0m\u001b[36mi\u001b[0m\u001b[36me\u001b[0m\u001b[36ms\u001b[0m\u001b[36m,\u001b[0m\u001b[36m \u001b[0m\u001b[36mi\u001b[0m\u001b[36m.\u001b[0m\u001b[36me\u001b[0m\u001b[36m.\u001b[0m\u001b[36m,\u001b[0m\u001b[36m \u001b[0m\u001b[36mt\u001b[0m\u001b[36mh\u001b[0m\u001b[36me\u001b[0m\u001b[36m \u001b[0m\u001b[36ml\u001b[0m\u001b[36mi\u001b[0m\u001b[36mg\u001b[0m\u001b[36mh\u001b[0m\u001b[36mt\u001b[0m\u001b[36mi\u001b[0m\u001b[36mn\u001b[0m\u001b[36mg\u001b[0m\u001b[36m,\u001b[0m\u001b[36m \u001b[0m\u001b[36m \u001b[0m\u001b[36m \u001b[0m\u001b[36m \u001b[0m\u001b[36m \u001b[0m\u001b[36m \u001b[0m\u001b[36m \u001b[0m\u001b[36m \u001b[0m\u001b[36m \u001b[0m\u001b[36m \u001b[0m\u001b[36m \u001b[0m\u001b[32;1m \u001b[0m\u001b[32;1m \u001b[0m\u001b[32;1m|\u001b[0m\r\n",
      "\u001b[36m|\u001b[0m\u001b[36m \u001b[0m\u001b[36me\u001b[0m\u001b[36ml\u001b[0m\u001b[36mu\u001b[0m\u001b[36mc\u001b[0m\u001b[36mi\u001b[0m\u001b[36md\u001b[0m\u001b[36ma\u001b[0m\u001b[36mt\u001b[0m\u001b[36mi\u001b[0m\u001b[36mo\u001b[0m\u001b[36mn\u001b[0m\u001b[36m,\u001b[0m\u001b[36m \u001b[0m\u001b[36ma\u001b[0m\u001b[36mn\u001b[0m\u001b[36md\u001b[0m\u001b[36m \u001b[0m\u001b[36mo\u001b[0m\u001b[36mt\u001b[0m\u001b[36mh\u001b[0m\u001b[36me\u001b[0m\u001b[36mr\u001b[0m\u001b[36mw\u001b[0m\u001b[36mi\u001b[0m\u001b[36ms\u001b[0m\u001b[36me\u001b[0m\u001b[36m \u001b[0m\u001b[36mi\u001b[0m\u001b[36ml\u001b[0m\u001b[36ml\u001b[0m\u001b[36mu\u001b[0m\u001b[36mm\u001b[0m\u001b[36mi\u001b[0m\u001b[36mn\u001b[0m\u001b[36ma\u001b[0m\u001b[32;1mt\u001b[0m\u001b[32;1mi\u001b[0m\u001b[32;1mo\u001b[0m\u001b[32;1mn\u001b[0m\u001b[32;1m \u001b[0m\u001b[32;1m|\u001b[0m\r\n",
      "\u001b[36m|\u001b[0m\u001b[36m \u001b[0m\u001b[36mo\u001b[0m\u001b[36mf\u001b[0m\u001b[36m \u001b[0m\u001b[36mt\u001b[0m\u001b[36mh\u001b[0m\u001b[36me\u001b[0m\u001b[36m \u001b[0m\u001b[36ma\u001b[0m\u001b[36mr\u001b[0m\u001b[36me\u001b[0m\u001b[36ma\u001b[0m\u001b[36m \u001b[0m\u001b[36mr\u001b[0m\u001b[36ma\u001b[0m\u001b[36mn\u001b[0m\u001b[36mg\u001b[0m\u001b[36mi\u001b[0m\u001b[36mn\u001b[0m\u001b[36mg\u001b[0m\u001b[36m \u001b[0m\u001b[36mf\u001b[0m\u001b[36mr\u001b[0m\u001b[36mo\u001b[0m\u001b[36mm\u001b[0m\u001b[36m \u001b[0m\u001b[36mt\u001b[0m\u001b[36mh\u001b[0m\u001b[36me\u001b[0m\u001b[36m \u001b[0m\u001b[36mf\u001b[0m\u001b[36mr\u001b[0m\u001b[36mo\u001b[0m\u001b[32;1mn\u001b[0m\u001b[32;1mt\u001b[0m\u001b[32;1m \u001b[0m\u001b[32;1m \u001b[0m\u001b[32;1m \u001b[0m\u001b[32;1m \u001b[0m\u001b[32;1m \u001b[0m\u001b[32;1m \u001b[0m\u001b[32;1m|\u001b[0m\r\n",
      "\u001b[36m|\u001b[0m\u001b[36m \u001b[0m\u001b[36m(\u001b[0m\u001b[36mn\u001b[0m\u001b[36mo\u001b[0m\u001b[36mr\u001b[0m\u001b[36mt\u001b[0m\u001b[36mh\u001b[0m\u001b[36m)\u001b[0m\u001b[36m \u001b[0m\u001b[36md\u001b[0m\u001b[36mo\u001b[0m\u001b[36mo\u001b[0m\u001b[36mr\u001b[0m\u001b[36m,\u001b[0m\u001b[36m \u001b[0m\u001b[36mt\u001b[0m\u001b[36mh\u001b[0m\u001b[36mr\u001b[0m\u001b[36mo\u001b[0m\u001b[36mu\u001b[0m\u001b[36mg\u001b[0m\u001b[36mh\u001b[0m\u001b[36m \u001b[0m\u001b[36mt\u001b[0m\u001b[36mh\u001b[0m\u001b[36me\u001b[0m\u001b[36m \u001b[0m\u001b[36me\u001b[0m\u001b[36mn\u001b[0m\u001b[36mt\u001b[0m\u001b[32;1mr\u001b[0m\u001b[32;1my\u001b[0m\u001b[32;1mw\u001b[0m\u001b[32;1ma\u001b[0m\u001b[32;1my\u001b[0m\u001b[32;1m,\u001b[0m\u001b[32;1m \u001b[0m\u001b[32;1m \u001b[0m\u001b[32;1m \u001b[0m\u001b[32;1m \u001b[0m\u001b[32;1m \u001b[0m\u001b[32;1m|\u001b[0m\r\n",
      "\u001b[36m|\u001b[0m\u001b[36m \u001b[0m\u001b[36mt\u001b[0m\u001b[36me\u001b[0m\u001b[36mr\u001b[0m\u001b[36mm\u001b[0m\u001b[36mi\u001b[0m\u001b[36mn\u001b[0m\u001b[36ma\u001b[0m\u001b[36mt\u001b[0m\u001b[36mi\u001b[0m\u001b[36mn\u001b[0m\u001b[36mg\u001b[0m\u001b[36m \u001b[0m\u001b[36ma\u001b[0m\u001b[36mt\u001b[0m\u001b[36m \u001b[0m\u001b[36ma\u001b[0m\u001b[36mn\u001b[0m\u001b[36m \u001b[0m\u001b[36ma\u001b[0m\u001b[36mr\u001b[0m\u001b[36me\u001b[0m\u001b[36ma\u001b[0m\u001b[36m \u001b[0m\u001b[36mj\u001b[0m\u001b[36mu\u001b[0m\u001b[36ms\u001b[0m\u001b[32;1mt\u001b[0m\u001b[32;1m \u001b[0m\u001b[32;1mi\u001b[0m\u001b[32;1mn\u001b[0m\u001b[32;1ms\u001b[0m\u001b[32;1mi\u001b[0m\u001b[32;1md\u001b[0m\u001b[32;1me\u001b[0m\u001b[32;1m \u001b[0m\u001b[32;1mt\u001b[0m\u001b[32;1mh\u001b[0m\u001b[32;1me\u001b[0m\u001b[32;1m \u001b[0m\u001b[32;1m \u001b[0m\u001b[32;1m|\u001b[0m\r\n",
      "\u001b[36m|\u001b[0m\u001b[36m \u001b[0m\u001b[36mp\u001b[0m\u001b[36mr\u001b[0m\u001b[36mi\u001b[0m\u001b[36mm\u001b[0m\u001b[36ma\u001b[0m\u001b[36mr\u001b[0m\u001b[36my\u001b[0m\u001b[36m \u001b[0m\u001b[36ml\u001b[0m\u001b[36mi\u001b[0m\u001b[36mv\u001b[0m\u001b[36mi\u001b[0m\u001b[36mn\u001b[0m\u001b[36mg\u001b[0m\u001b[36m \u001b[0m\u001b[36ma\u001b[0m\u001b[36mr\u001b[0m\u001b[36me\u001b[0m\u001b[36ma\u001b[0m\u001b[36m,\u001b[0m\u001b[36m \u001b[0m\u001b[36md\u001b[0m\u001b[36me\u001b[0m\u001b[32;1mm\u001b[0m\u001b[32;1ma\u001b[0m\u001b[32;1mr\u001b[0m\u001b[32;1mc\u001b[0m\u001b[32;1ma\u001b[0m\u001b[32;1mt\u001b[0m\u001b[32;1me\u001b[0m\u001b[32;1md\u001b[0m\u001b[32;1m \u001b[0m\u001b[32;1mb\u001b[0m\u001b[32;1my\u001b[0m\u001b[32;1m \u001b[0m\u001b[32;1mt\u001b[0m\u001b[32;1mh\u001b[0m\u001b[32;1me\u001b[0m\u001b[32;1m \u001b[0m\u001b[32;1m \u001b[0m\u001b[32;1m|\u001b[0m\r\n",
      "\u001b[36m|\u001b[0m\u001b[36m \u001b[0m\u001b[36mb\u001b[0m\u001b[36me\u001b[0m\u001b[36mg\u001b[0m\u001b[36mi\u001b[0m\u001b[36mn\u001b[0m\u001b[36mn\u001b[0m\u001b[36mi\u001b[0m\u001b[36mn\u001b[0m\u001b[36mg\u001b[0m\u001b[36m \u001b[0m\u001b[36mo\u001b[0m\u001b[36mf\u001b[0m\u001b[36m \u001b[0m\u001b[36mt\u001b[0m\u001b[36mh\u001b[0m\u001b[36me\u001b[0m\u001b[36m \u001b[0m\u001b[36mc\u001b[0m\u001b[36ma\u001b[0m\u001b[36mr\u001b[0m\u001b[32;1mp\u001b[0m\u001b[32;1me\u001b[0m\u001b[32;1mt\u001b[0m\u001b[32;1m,\u001b[0m\u001b[32;1m \u001b[0m\u001b[32;1ma\u001b[0m\u001b[32;1mn\u001b[0m\u001b[32;1my\u001b[0m\u001b[32;1m \u001b[0m\u001b[32;1ms\u001b[0m\u001b[32;1mp\u001b[0m\u001b[32;1mi\u001b[0m\u001b[32;1ml\u001b[0m\u001b[32;1ml\u001b[0m\u001b[32;1mo\u001b[0m\u001b[32;1mv\u001b[0m\u001b[32;1me\u001b[0m\u001b[32;1mr\u001b[0m\u001b[32;1m \u001b[0m\u001b[32;1m \u001b[0m\u001b[32;1m|\u001b[0m\r\n",
      "\u001b[36m|\u001b[0m\u001b[36m \u001b[0m\u001b[36mi\u001b[0m\u001b[36ml\u001b[0m\u001b[36ml\u001b[0m\u001b[36mu\u001b[0m\u001b[36mm\u001b[0m\u001b[36mi\u001b[0m\u001b[36mn\u001b[0m\u001b[36ma\u001b[0m\u001b[36mt\u001b[0m\u001b[36mi\u001b[0m\u001b[36mo\u001b[0m\u001b[36mn\u001b[0m\u001b[36m \u001b[0m\u001b[36mb\u001b[0m\u001b[36me\u001b[0m\u001b[36mi\u001b[0m\u001b[36mn\u001b[0m\u001b[32;1mg\u001b[0m\u001b[32;1m \u001b[0m\u001b[32;1ma\u001b[0m\u001b[32;1mt\u001b[0m\u001b[32;1m \u001b[0m\u001b[32;1mt\u001b[0m\u001b[32;1mh\u001b[0m\u001b[32;1me\u001b[0m\u001b[32;1m \u001b[0m\u001b[32;1mo\u001b[0m\u001b[32;1mp\u001b[0m\u001b[32;1mt\u001b[0m\u001b[32;1mi\u001b[0m\u001b[32;1mo\u001b[0m\u001b[32;1mn\u001b[0m\u001b[32;1m \u001b[0m\u001b[32;1mo\u001b[0m\u001b[32;1mf\u001b[0m\u001b[32;1m \u001b[0m\u001b[32;1mt\u001b[0m\u001b[32;1mh\u001b[0m\u001b[33me\u001b[0m\u001b[33m \u001b[0m\u001b[33m|\u001b[0m\r\n",
      "\u001b[36m|\u001b[0m\u001b[36m \u001b[0m\u001b[36mp\u001b[0m\u001b[36ma\u001b[0m\u001b[36mr\u001b[0m\u001b[36mt\u001b[0m\u001b[36my\u001b[0m\u001b[36m \u001b[0m\u001b[36mo\u001b[0m\u001b[36mf\u001b[0m\u001b[36m \u001b[0m\u001b[36mt\u001b[0m\u001b[36mh\u001b[0m\u001b[36me\u001b[0m\u001b[36m \u001b[0m\u001b[36ms\u001b[0m\u001b[32;1me\u001b[0m\u001b[32;1mc\u001b[0m\u001b[32;1mo\u001b[0m\u001b[32;1mn\u001b[0m\u001b[32;1md\u001b[0m\u001b[32;1m \u001b[0m\u001b[32;1mp\u001b[0m\u001b[32;1ma\u001b[0m\u001b[32;1mr\u001b[0m\u001b[32;1mt\u001b[0m\u001b[32;1m \u001b[0m\u001b[32;1ma\u001b[0m\u001b[32;1mn\u001b[0m\u001b[32;1md\u001b[0m\u001b[32;1m \u001b[0m\u001b[32;1mn\u001b[0m\u001b[32;1mo\u001b[0m\u001b[32;1mt\u001b[0m\u001b[32;1m \u001b[0m\u001b[32;1m \u001b[0m\u001b[32;1m \u001b[0m\u001b[33m \u001b[0m\u001b[33m \u001b[0m\u001b[33m \u001b[0m\u001b[33m \u001b[0m\u001b[33m \u001b[0m\u001b[33m|\u001b[0m\r\n",
      "\u001b[36m|\u001b[0m\u001b[36m \u001b[0m\u001b[36mr\u001b[0m\u001b[36me\u001b[0m\u001b[36mq\u001b[0m\u001b[36mu\u001b[0m\u001b[36mi\u001b[0m\u001b[36mr\u001b[0m\u001b[36me\u001b[0m\u001b[36md\u001b[0m\u001b[36m \u001b[0m\u001b[36mb\u001b[0m\u001b[36my\u001b[0m\u001b[32;1m \u001b[0m\u001b[32;1mt\u001b[0m\u001b[32;1mh\u001b[0m\u001b[32;1me\u001b[0m\u001b[32;1m \u001b[0m\u001b[32;1ma\u001b[0m\u001b[32;1mf\u001b[0m\u001b[32;1mo\u001b[0m\u001b[32;1mr\u001b[0m\u001b[32;1me\u001b[0m\u001b[32;1mm\u001b[0m\u001b[32;1me\u001b[0m\u001b[32;1mn\u001b[0m\u001b[32;1mt\u001b[0m\u001b[32;1mi\u001b[0m\u001b[32;1mo\u001b[0m\u001b[32;1mn\u001b[0m\u001b[32;1me\u001b[0m\u001b[32;1md\u001b[0m\u001b[32;1m \u001b[0m\u001b[32;1m \u001b[0m\u001b[33m \u001b[0m\u001b[33m \u001b[0m\u001b[33m \u001b[0m\u001b[33m \u001b[0m\u001b[33m \u001b[0m\u001b[33m \u001b[0m\u001b[33m \u001b[0m\u001b[33m \u001b[0m\u001b[33m|\u001b[0m\r\n",
      "\u001b[36m|\u001b[0m\u001b[36m \u001b[0m\u001b[36ma\u001b[0m\u001b[36mg\u001b[0m\u001b[36mr\u001b[0m\u001b[36me\u001b[0m\u001b[36me\u001b[0m\u001b[36mm\u001b[0m\u001b[36me\u001b[0m\u001b[36mn\u001b[0m\u001b[32;1mt\u001b[0m\u001b[32;1m \u001b[0m\u001b[32;1mb\u001b[0m\u001b[32;1me\u001b[0m\u001b[32;1mt\u001b[0m\u001b[32;1mw\u001b[0m\u001b[32;1me\u001b[0m\u001b[32;1me\u001b[0m\u001b[32;1mn\u001b[0m\u001b[32;1m \u001b[0m\u001b[32;1mt\u001b[0m\u001b[32;1mh\u001b[0m\u001b[32;1me\u001b[0m\u001b[32;1m \u001b[0m\u001b[32;1mp\u001b[0m\u001b[32;1ma\u001b[0m\u001b[32;1mr\u001b[0m\u001b[32;1mt\u001b[0m\u001b[32;1mi\u001b[0m\u001b[32;1me\u001b[0m\u001b[32;1ms\u001b[0m\u001b[33m.\u001b[0m\u001b[33m \u001b[0m\u001b[33m \u001b[0m\u001b[33m \u001b[0m\u001b[33m \u001b[0m\u001b[33m \u001b[0m\u001b[33m \u001b[0m\u001b[33m \u001b[0m\u001b[33m \u001b[0m\u001b[33m \u001b[0m\u001b[33m \u001b[0m\u001b[33m|\u001b[0m\r\n",
      "\u001b[36m|\u001b[0m\u001b[36m \u001b[0m\u001b[36m \u001b[0m\u001b[36m \u001b[0m\u001b[36m \u001b[0m\u001b[36m \u001b[0m\u001b[36m \u001b[0m\u001b[32;1m \u001b[0m\u001b[32;1m \u001b[0m\u001b[32;1m \u001b[0m\u001b[32;1m \u001b[0m\u001b[32;1m \u001b[0m\u001b[32;1m \u001b[0m\u001b[32;1m \u001b[0m\u001b[32;1m \u001b[0m\u001b[32;1m \u001b[0m\u001b[32;1m \u001b[0m\u001b[32;1m \u001b[0m\u001b[32;1m \u001b[0m\u001b[32;1m \u001b[0m\u001b[32;1m \u001b[0m\u001b[32;1m \u001b[0m\u001b[32;1m \u001b[0m\u001b[32;1m \u001b[0m\u001b[32;1m \u001b[0m\u001b[32;1m \u001b[0m\u001b[32;1m \u001b[0m\u001b[32;1m \u001b[0m\u001b[33m \u001b[0m\u001b[33m \u001b[0m\u001b[33m \u001b[0m\u001b[33m \u001b[0m\u001b[33m \u001b[0m\u001b[33m \u001b[0m\u001b[33m \u001b[0m\u001b[33m \u001b[0m\u001b[33m \u001b[0m\u001b[33m \u001b[0m\u001b[33m \u001b[0m\u001b[33m \u001b[0m\u001b[33m \u001b[0m\u001b[33m \u001b[0m\u001b[33m|\u001b[0m\r\n",
      "\u001b[36m|\u001b[0m\u001b[36m \u001b[0m\u001b[36mT\u001b[0m\u001b[36mh\u001b[0m\u001b[32;1me\u001b[0m\u001b[32;1m \u001b[0m\u001b[32;1ma\u001b[0m\u001b[32;1mf\u001b[0m\u001b[32;1mo\u001b[0m\u001b[32;1mr\u001b[0m\u001b[32;1me\u001b[0m\u001b[32;1mm\u001b[0m\u001b[32;1me\u001b[0m\u001b[32;1mn\u001b[0m\u001b[32;1mt\u001b[0m\u001b[32;1mi\u001b[0m\u001b[32;1mo\u001b[0m\u001b[32;1mn\u001b[0m\u001b[32;1me\u001b[0m\u001b[32;1md\u001b[0m\u001b[32;1m \u001b[0m\u001b[32;1mr\u001b[0m\u001b[32;1me\u001b[0m\u001b[32;1mm\u001b[0m\u001b[32;1mo\u001b[0m\u001b[33mv\u001b[0m\u001b[33ma\u001b[0m\u001b[33ml\u001b[0m\u001b[33m \u001b[0m\u001b[33mt\u001b[0m\u001b[33mr\u001b[0m\u001b[33ma\u001b[0m\u001b[33mn\u001b[0m\u001b[33ms\u001b[0m\u001b[33ma\u001b[0m\u001b[33mc\u001b[0m\u001b[33mt\u001b[0m\u001b[33mi\u001b[0m\u001b[33mo\u001b[0m\u001b[33mn\u001b[0m\u001b[33m \u001b[0m\u001b[33m \u001b[0m\u001b[33m|\u001b[0m\r\n",
      "\u001b[36m|\u001b[0m\u001b[32;1m \u001b[0m\u001b[32;1ms\u001b[0m\u001b[32;1mh\u001b[0m\u001b[32;1ma\u001b[0m\u001b[32;1ml\u001b[0m\u001b[32;1ml\u001b[0m\u001b[32;1m \u001b[0m\u001b[32;1mi\u001b[0m\u001b[32;1mn\u001b[0m\u001b[32;1mc\u001b[0m\u001b[32;1ml\u001b[0m\u001b[32;1mu\u001b[0m\u001b[32;1md\u001b[0m\u001b[32;1me\u001b[0m\u001b[32;1m,\u001b[0m\u001b[32;1m \u001b[0m\u001b[32;1mb\u001b[0m\u001b[32;1mu\u001b[0m\u001b[32;1mt\u001b[0m\u001b[32;1m \u001b[0m\u001b[32;1mn\u001b[0m\u001b[33mo\u001b[0m\u001b[33mt\u001b[0m\u001b[33m \u001b[0m\u001b[33mb\u001b[0m\u001b[33me\u001b[0m\u001b[33m \u001b[0m\u001b[33ml\u001b[0m\u001b[33mi\u001b[0m\u001b[33mm\u001b[0m\u001b[33mi\u001b[0m\u001b[33mt\u001b[0m\u001b[33me\u001b[0m\u001b[33md\u001b[0m\u001b[33m \u001b[0m\u001b[33mt\u001b[0m\u001b[33mo\u001b[0m\u001b[33m,\u001b[0m\u001b[33m \u001b[0m\u001b[33m \u001b[0m\u001b[33m \u001b[0m\u001b[33m|\u001b[0m\r\n",
      "\u001b[32;1m|\u001b[0m\u001b[32;1m \u001b[0m\u001b[32;1mt\u001b[0m\u001b[32;1mh\u001b[0m\u001b[32;1me\u001b[0m\u001b[32;1m \u001b[0m\u001b[32;1mf\u001b[0m\u001b[32;1mo\u001b[0m\u001b[32;1ml\u001b[0m\u001b[32;1ml\u001b[0m\u001b[32;1mo\u001b[0m\u001b[32;1mw\u001b[0m\u001b[32;1mi\u001b[0m\u001b[32;1mn\u001b[0m\u001b[32;1mg\u001b[0m\u001b[32;1m.\u001b[0m\u001b[32;1m \u001b[0m\u001b[32;1mT\u001b[0m\u001b[32;1mh\u001b[0m\u001b[33me\u001b[0m\u001b[33m \u001b[0m\u001b[33mp\u001b[0m\u001b[33ma\u001b[0m\u001b[33mr\u001b[0m\u001b[33mt\u001b[0m\u001b[33my\u001b[0m\u001b[33m \u001b[0m\u001b[33mo\u001b[0m\u001b[33mf\u001b[0m\u001b[33m \u001b[0m\u001b[33mt\u001b[0m\u001b[33mh\u001b[0m\u001b[33me\u001b[0m\u001b[33m \u001b[0m\u001b[33mf\u001b[0m\u001b[33mi\u001b[0m\u001b[33mr\u001b[0m\u001b[33ms\u001b[0m\u001b[33mt\u001b[0m\u001b[33m \u001b[0m\u001b[33m \u001b[0m\u001b[33m \u001b[0m\u001b[33m|\u001b[0m\r\n",
      "\u001b[32;1m|\u001b[0m\u001b[32;1m \u001b[0m\u001b[32;1mp\u001b[0m\u001b[32;1ma\u001b[0m\u001b[32;1mr\u001b[0m\u001b[32;1mt\u001b[0m\u001b[32;1m \u001b[0m\u001b[32;1ms\u001b[0m\u001b[32;1mh\u001b[0m\u001b[32;1ma\u001b[0m\u001b[32;1ml\u001b[0m\u001b[32;1ml\u001b[0m\u001b[32;1m,\u001b[0m\u001b[32;1m \u001b[0m\u001b[32;1mw\u001b[0m\u001b[32;1mi\u001b[0m\u001b[33mt\u001b[0m\u001b[33mh\u001b[0m\u001b[33m \u001b[0m\u001b[33mo\u001b[0m\u001b[33mr\u001b[0m\u001b[33m \u001b[0m\u001b[33mw\u001b[0m\u001b[33mi\u001b[0m\u001b[33mt\u001b[0m\u001b[33mh\u001b[0m\u001b[33mo\u001b[0m\u001b[33mu\u001b[0m\u001b[33mt\u001b[0m\u001b[33m \u001b[0m\u001b[33me\u001b[0m\u001b[33ml\u001b[0m\u001b[33me\u001b[0m\u001b[33mv\u001b[0m\u001b[33ma\u001b[0m\u001b[33mt\u001b[0m\u001b[33mi\u001b[0m\u001b[33mo\u001b[0m\u001b[33mn\u001b[0m\u001b[33m \u001b[0m\u001b[33m \u001b[0m\u001b[33m \u001b[0m\u001b[33m|\u001b[0m\r\n",
      "\u001b[32;1m|\u001b[0m\u001b[32;1m \u001b[0m\u001b[32;1ma\u001b[0m\u001b[32;1mt\u001b[0m\u001b[32;1m \u001b[0m\u001b[32;1mh\u001b[0m\u001b[32;1mi\u001b[0m\u001b[32;1ms\u001b[0m\u001b[32;1m \u001b[0m\u001b[32;1mo\u001b[0m\u001b[32;1mp\u001b[0m\u001b[32;1mt\u001b[0m\u001b[32;1mi\u001b[0m\u001b[33mo\u001b[0m\u001b[33mn\u001b[0m\u001b[33m,\u001b[0m\u001b[33m \u001b[0m\u001b[33mb\u001b[0m\u001b[33my\u001b[0m\u001b[33m \u001b[0m\u001b[33mm\u001b[0m\u001b[33me\u001b[0m\u001b[33ma\u001b[0m\u001b[33mn\u001b[0m\u001b[33ms\u001b[0m\u001b[33m \u001b[0m\u001b[33mo\u001b[0m\u001b[33mf\u001b[0m\u001b[33m \u001b[0m\u001b[33ma\u001b[0m\u001b[33m \u001b[0m\u001b[33mc\u001b[0m\u001b[33mh\u001b[0m\u001b[33ma\u001b[0m\u001b[33mi\u001b[0m\u001b[33mr\u001b[0m\u001b[33m,\u001b[0m\u001b[33m \u001b[0m\u001b[33m \u001b[0m\u001b[33m \u001b[0m\u001b[33m \u001b[0m\u001b[33m \u001b[0m\u001b[33m|\u001b[0m\r\n",
      "\u001b[32;1m|\u001b[0m\u001b[32;1m \u001b[0m\u001b[32;1ms\u001b[0m\u001b[32;1mt\u001b[0m\u001b[32;1me\u001b[0m\u001b[32;1mp\u001b[0m\u001b[32;1ms\u001b[0m\u001b[32;1mt\u001b[0m\u001b[32;1mo\u001b[0m\u001b[32;1mo\u001b[0m\u001b[33ml\u001b[0m\u001b[33m,\u001b[0m\u001b[33m \u001b[0m\u001b[33ml\u001b[0m\u001b[33ma\u001b[0m\u001b[33md\u001b[0m\u001b[33md\u001b[0m\u001b[33me\u001b[0m\u001b[33mr\u001b[0m\u001b[33m \u001b[0m\u001b[33mo\u001b[0m\u001b[33mr\u001b[0m\u001b[33m \u001b[0m\u001b[33ma\u001b[0m\u001b[33mn\u001b[0m\u001b[33my\u001b[0m\u001b[33m \u001b[0m\u001b[33mo\u001b[0m\u001b[33mt\u001b[0m\u001b[33mh\u001b[0m\u001b[33me\u001b[0m\u001b[33mr\u001b[0m\u001b[33m \u001b[0m\u001b[33mm\u001b[0m\u001b[33me\u001b[0m\u001b[33ma\u001b[0m\u001b[33mn\u001b[0m\u001b[33ms\u001b[0m\u001b[33m \u001b[0m\u001b[33mo\u001b[0m\u001b[33mf\u001b[0m\u001b[33m \u001b[0m\u001b[33m|\u001b[0m\r\n",
      "\u001b[32;1m|\u001b[0m\u001b[32;1m \u001b[0m\u001b[32;1me\u001b[0m\u001b[32;1ml\u001b[0m\u001b[32;1me\u001b[0m\u001b[32;1mv\u001b[0m\u001b[32;1ma\u001b[0m\u001b[33mt\u001b[0m\u001b[33mi\u001b[0m\u001b[33mo\u001b[0m\u001b[33mn\u001b[0m\u001b[33m,\u001b[0m\u001b[33m \u001b[0m\u001b[33mg\u001b[0m\u001b[33mr\u001b[0m\u001b[33ma\u001b[0m\u001b[33ms\u001b[0m\u001b[33mp\u001b[0m\u001b[33m \u001b[0m\u001b[33mt\u001b[0m\u001b[33mh\u001b[0m\u001b[33me\u001b[0m\u001b[33m \u001b[0m\u001b[33mp\u001b[0m\u001b[33ma\u001b[0m\u001b[33mr\u001b[0m\u001b[33mt\u001b[0m\u001b[33my\u001b[0m\u001b[33m \u001b[0m\u001b[33mo\u001b[0m\u001b[33mf\u001b[0m\u001b[33m \u001b[0m\u001b[33mt\u001b[0m\u001b[33mh\u001b[0m\u001b[33me\u001b[0m\u001b[33m \u001b[0m\u001b[33m \u001b[0m\u001b[33m \u001b[0m\u001b[33m \u001b[0m\u001b[33m \u001b[0m\u001b[33m \u001b[0m\u001b[33m \u001b[0m\u001b[33m|\u001b[0m\r\n",
      "\u001b[32;1m|\u001b[0m\u001b[32;1m \u001b[0m\u001b[32;1ms\u001b[0m\u001b[32;1me\u001b[0m\u001b[33mc\u001b[0m\u001b[33mo\u001b[0m\u001b[33mn\u001b[0m\u001b[33md\u001b[0m\u001b[33m \u001b[0m\u001b[33mp\u001b[0m\u001b[33ma\u001b[0m\u001b[33mr\u001b[0m\u001b[33mt\u001b[0m\u001b[33m \u001b[0m\u001b[33ma\u001b[0m\u001b[33mn\u001b[0m\u001b[33md\u001b[0m\u001b[33m \u001b[0m\u001b[33mr\u001b[0m\u001b[33mo\u001b[0m\u001b[33mt\u001b[0m\u001b[33ma\u001b[0m\u001b[33mt\u001b[0m\u001b[33me\u001b[0m\u001b[33m \u001b[0m\u001b[33mt\u001b[0m\u001b[33mh\u001b[0m\u001b[33me\u001b[0m\u001b[33m \u001b[0m\u001b[33mp\u001b[0m\u001b[33ma\u001b[0m\u001b[33mr\u001b[0m\u001b[33mt\u001b[0m\u001b[33my\u001b[0m\u001b[33m \u001b[0m\u001b[33mo\u001b[0m\u001b[33mf\u001b[0m\u001b[33m \u001b[0m\u001b[33mt\u001b[0m\u001b[33mh\u001b[0m\u001b[33me\u001b[0m\u001b[33m \u001b[0m\u001b[33m|\u001b[0m\r\n",
      "\u001b[32;1m|\u001b[0m\u001b[33m \u001b[0m\u001b[33ms\u001b[0m\u001b[33me\u001b[0m\u001b[33mc\u001b[0m\u001b[33mo\u001b[0m\u001b[33mn\u001b[0m\u001b[33md\u001b[0m\u001b[33m \u001b[0m\u001b[33mp\u001b[0m\u001b[33ma\u001b[0m\u001b[33mr\u001b[0m\u001b[33mt\u001b[0m\u001b[33m \u001b[0m\u001b[33mi\u001b[0m\u001b[33mn\u001b[0m\u001b[33m \u001b[0m\u001b[33ma\u001b[0m\u001b[33m \u001b[0m\u001b[33mc\u001b[0m\u001b[33mo\u001b[0m\u001b[33mu\u001b[0m\u001b[33mn\u001b[0m\u001b[33mt\u001b[0m\u001b[33me\u001b[0m\u001b[33mr\u001b[0m\u001b[33m-\u001b[0m\u001b[33mc\u001b[0m\u001b[33ml\u001b[0m\u001b[33mo\u001b[0m\u001b[33mc\u001b[0m\u001b[33mk\u001b[0m\u001b[33mw\u001b[0m\u001b[33mi\u001b[0m\u001b[33ms\u001b[0m\u001b[33me\u001b[0m\u001b[33m \u001b[0m\u001b[33m \u001b[0m\u001b[33m \u001b[0m\u001b[33m \u001b[0m\u001b[33m \u001b[0m\u001b[33m \u001b[0m\u001b[31;1m|\u001b[0m\r\n",
      "\u001b[33m|\u001b[0m\u001b[33m \u001b[0m\u001b[33md\u001b[0m\u001b[33mi\u001b[0m\u001b[33mr\u001b[0m\u001b[33me\u001b[0m\u001b[33mc\u001b[0m\u001b[33mt\u001b[0m\u001b[33mi\u001b[0m\u001b[33mo\u001b[0m\u001b[33mn\u001b[0m\u001b[33m,\u001b[0m\u001b[33m \u001b[0m\u001b[33mt\u001b[0m\u001b[33mh\u001b[0m\u001b[33mi\u001b[0m\u001b[33ms\u001b[0m\u001b[33m \u001b[0m\u001b[33mp\u001b[0m\u001b[33mo\u001b[0m\u001b[33mi\u001b[0m\u001b[33mn\u001b[0m\u001b[33mt\u001b[0m\u001b[33m \u001b[0m\u001b[33mb\u001b[0m\u001b[33me\u001b[0m\u001b[33mi\u001b[0m\u001b[33mn\u001b[0m\u001b[33mg\u001b[0m\u001b[33m \u001b[0m\u001b[33mt\u001b[0m\u001b[33me\u001b[0m\u001b[33mn\u001b[0m\u001b[33md\u001b[0m\u001b[33me\u001b[0m\u001b[33mr\u001b[0m\u001b[33me\u001b[0m\u001b[33md\u001b[0m\u001b[33m \u001b[0m\u001b[31;1m \u001b[0m\u001b[31;1m \u001b[0m\u001b[31;1m \u001b[0m\u001b[31;1m|\u001b[0m\r\n",
      "\u001b[33m|\u001b[0m\u001b[33m \u001b[0m\u001b[33mn\u001b[0m\u001b[33mo\u001b[0m\u001b[33mn\u001b[0m\u001b[33m-\u001b[0m\u001b[33mn\u001b[0m\u001b[33me\u001b[0m\u001b[33mg\u001b[0m\u001b[33mo\u001b[0m\u001b[33mt\u001b[0m\u001b[33mi\u001b[0m\u001b[33ma\u001b[0m\u001b[33mb\u001b[0m\u001b[33ml\u001b[0m\u001b[33me\u001b[0m\u001b[33m.\u001b[0m\u001b[33m \u001b[0m\u001b[33mU\u001b[0m\u001b[33mp\u001b[0m\u001b[33mo\u001b[0m\u001b[33mn\u001b[0m\u001b[33m \u001b[0m\u001b[33mr\u001b[0m\u001b[33me\u001b[0m\u001b[33ma\u001b[0m\u001b[33mc\u001b[0m\u001b[33mh\u001b[0m\u001b[33mi\u001b[0m\u001b[33mn\u001b[0m\u001b[33mg\u001b[0m\u001b[33m \u001b[0m\u001b[33ma\u001b[0m\u001b[33m \u001b[0m\u001b[33mp\u001b[0m\u001b[33mo\u001b[0m\u001b[31;1mi\u001b[0m\u001b[31;1mn\u001b[0m\u001b[31;1mt\u001b[0m\u001b[31;1m \u001b[0m\u001b[31;1m \u001b[0m\u001b[31;1m \u001b[0m\u001b[31;1m|\u001b[0m\r\n"
     ]
    },
    {
     "name": "stdout",
     "output_type": "stream",
     "text": [
      "\u001b[33m|\u001b[0m\u001b[33m \u001b[0m\u001b[33mw\u001b[0m\u001b[33mh\u001b[0m\u001b[33me\u001b[0m\u001b[33mr\u001b[0m\u001b[33me\u001b[0m\u001b[33m \u001b[0m\u001b[33mt\u001b[0m\u001b[33mh\u001b[0m\u001b[33me\u001b[0m\u001b[33m \u001b[0m\u001b[33mp\u001b[0m\u001b[33ma\u001b[0m\u001b[33mr\u001b[0m\u001b[33mt\u001b[0m\u001b[33my\u001b[0m\u001b[33m \u001b[0m\u001b[33mo\u001b[0m\u001b[33mf\u001b[0m\u001b[33m \u001b[0m\u001b[33mt\u001b[0m\u001b[33mh\u001b[0m\u001b[33me\u001b[0m\u001b[33m \u001b[0m\u001b[33ms\u001b[0m\u001b[33me\u001b[0m\u001b[33mc\u001b[0m\u001b[33mo\u001b[0m\u001b[33mn\u001b[0m\u001b[33md\u001b[0m\u001b[33m \u001b[0m\u001b[33mp\u001b[0m\u001b[31;1ma\u001b[0m\u001b[31;1mr\u001b[0m\u001b[31;1mt\u001b[0m\u001b[31;1m \u001b[0m\u001b[31;1m \u001b[0m\u001b[31;1m \u001b[0m\u001b[31;1m \u001b[0m\u001b[31;1m \u001b[0m\u001b[31;1m \u001b[0m\u001b[31;1m|\u001b[0m\r\n",
      "\u001b[33m|\u001b[0m\u001b[33m \u001b[0m\u001b[33mb\u001b[0m\u001b[33me\u001b[0m\u001b[33mc\u001b[0m\u001b[33mo\u001b[0m\u001b[33mm\u001b[0m\u001b[33me\u001b[0m\u001b[33ms\u001b[0m\u001b[33m \u001b[0m\u001b[33mf\u001b[0m\u001b[33mu\u001b[0m\u001b[33ml\u001b[0m\u001b[33ml\u001b[0m\u001b[33my\u001b[0m\u001b[33m \u001b[0m\u001b[33md\u001b[0m\u001b[33me\u001b[0m\u001b[33mt\u001b[0m\u001b[33ma\u001b[0m\u001b[33mc\u001b[0m\u001b[33mh\u001b[0m\u001b[33me\u001b[0m\u001b[33md\u001b[0m\u001b[33m \u001b[0m\u001b[33mf\u001b[0m\u001b[33mr\u001b[0m\u001b[33mo\u001b[0m\u001b[33mm\u001b[0m\u001b[33m \u001b[0m\u001b[31;1mt\u001b[0m\u001b[31;1mh\u001b[0m\u001b[31;1me\u001b[0m\u001b[31;1m \u001b[0m\u001b[31;1m \u001b[0m\u001b[31;1m \u001b[0m\u001b[31;1m \u001b[0m\u001b[31;1m \u001b[0m\u001b[31;1m \u001b[0m\u001b[31;1m \u001b[0m\u001b[31;1m \u001b[0m\u001b[31;1m \u001b[0m\u001b[31;1m|\u001b[0m\r\n",
      "\u001b[33m|\u001b[0m\u001b[33m \u001b[0m\u001b[33mr\u001b[0m\u001b[33me\u001b[0m\u001b[33mc\u001b[0m\u001b[33me\u001b[0m\u001b[33mp\u001b[0m\u001b[33mt\u001b[0m\u001b[33ma\u001b[0m\u001b[33mc\u001b[0m\u001b[33ml\u001b[0m\u001b[33me\u001b[0m\u001b[33m,\u001b[0m\u001b[33m \u001b[0m\u001b[33mt\u001b[0m\u001b[33mh\u001b[0m\u001b[33me\u001b[0m\u001b[33m \u001b[0m\u001b[33mp\u001b[0m\u001b[33ma\u001b[0m\u001b[33mr\u001b[0m\u001b[33mt\u001b[0m\u001b[33my\u001b[0m\u001b[33m \u001b[0m\u001b[33mo\u001b[0m\u001b[33mf\u001b[0m\u001b[33m \u001b[0m\u001b[31;1mt\u001b[0m\u001b[31;1mh\u001b[0m\u001b[31;1me\u001b[0m\u001b[31;1m \u001b[0m\u001b[31;1mf\u001b[0m\u001b[31;1mi\u001b[0m\u001b[31;1mr\u001b[0m\u001b[31;1ms\u001b[0m\u001b[31;1mt\u001b[0m\u001b[31;1m \u001b[0m\u001b[31;1mp\u001b[0m\u001b[31;1ma\u001b[0m\u001b[31;1mr\u001b[0m\u001b[31;1mt\u001b[0m\u001b[31;1m \u001b[0m\u001b[31;1m|\u001b[0m\r\n",
      "\u001b[33m|\u001b[0m\u001b[33m \u001b[0m\u001b[33ms\u001b[0m\u001b[33mh\u001b[0m\u001b[33ma\u001b[0m\u001b[33ml\u001b[0m\u001b[33ml\u001b[0m\u001b[33m \u001b[0m\u001b[33mh\u001b[0m\u001b[33ma\u001b[0m\u001b[33mv\u001b[0m\u001b[33me\u001b[0m\u001b[33m \u001b[0m\u001b[33mt\u001b[0m\u001b[33mh\u001b[0m\u001b[33me\u001b[0m\u001b[33m \u001b[0m\u001b[33mo\u001b[0m\u001b[33mp\u001b[0m\u001b[33mt\u001b[0m\u001b[33mi\u001b[0m\u001b[33mo\u001b[0m\u001b[33mn\u001b[0m\u001b[33m \u001b[0m\u001b[31;1mo\u001b[0m\u001b[31;1mf\u001b[0m\u001b[31;1m \u001b[0m\u001b[31;1md\u001b[0m\u001b[31;1mi\u001b[0m\u001b[31;1ms\u001b[0m\u001b[31;1mp\u001b[0m\u001b[31;1mo\u001b[0m\u001b[31;1ms\u001b[0m\u001b[31;1mi\u001b[0m\u001b[31;1mn\u001b[0m\u001b[31;1mg\u001b[0m\u001b[31;1m \u001b[0m\u001b[31;1mo\u001b[0m\u001b[31;1mf\u001b[0m\u001b[31;1m \u001b[0m\u001b[31;1m \u001b[0m\u001b[31;1m \u001b[0m\u001b[31;1m|\u001b[0m\r\n",
      "\u001b[33m|\u001b[0m\u001b[33m \u001b[0m\u001b[33mt\u001b[0m\u001b[33mh\u001b[0m\u001b[33me\u001b[0m\u001b[33m \u001b[0m\u001b[33mp\u001b[0m\u001b[33ma\u001b[0m\u001b[33mr\u001b[0m\u001b[33mt\u001b[0m\u001b[33my\u001b[0m\u001b[33m \u001b[0m\u001b[33mo\u001b[0m\u001b[33mf\u001b[0m\u001b[33m \u001b[0m\u001b[33mt\u001b[0m\u001b[33mh\u001b[0m\u001b[33me\u001b[0m\u001b[33m \u001b[0m\u001b[33ms\u001b[0m\u001b[33me\u001b[0m\u001b[31;1mc\u001b[0m\u001b[31;1mo\u001b[0m\u001b[31;1mn\u001b[0m\u001b[31;1md\u001b[0m\u001b[31;1m \u001b[0m\u001b[31;1mp\u001b[0m\u001b[31;1ma\u001b[0m\u001b[31;1mr\u001b[0m\u001b[31;1mt\u001b[0m\u001b[31;1m \u001b[0m\u001b[31;1mi\u001b[0m\u001b[31;1mn\u001b[0m\u001b[31;1m \u001b[0m\u001b[31;1ma\u001b[0m\u001b[31;1m \u001b[0m\u001b[31;1m \u001b[0m\u001b[31;1m \u001b[0m\u001b[31;1m \u001b[0m\u001b[31;1m \u001b[0m\u001b[31;1m \u001b[0m\u001b[31;1m \u001b[0m\u001b[31;1m|\u001b[0m\r\n",
      "\u001b[33m|\u001b[0m\u001b[33m \u001b[0m\u001b[33mm\u001b[0m\u001b[33ma\u001b[0m\u001b[33mn\u001b[0m\u001b[33mn\u001b[0m\u001b[33me\u001b[0m\u001b[33mr\u001b[0m\u001b[33m \u001b[0m\u001b[33mc\u001b[0m\u001b[33mo\u001b[0m\u001b[33mn\u001b[0m\u001b[33ms\u001b[0m\u001b[33mi\u001b[0m\u001b[33ms\u001b[0m\u001b[33mt\u001b[0m\u001b[33me\u001b[0m\u001b[33mn\u001b[0m\u001b[31;1mt\u001b[0m\u001b[31;1m \u001b[0m\u001b[31;1mw\u001b[0m\u001b[31;1mi\u001b[0m\u001b[31;1mt\u001b[0m\u001b[31;1mh\u001b[0m\u001b[31;1m \u001b[0m\u001b[31;1ma\u001b[0m\u001b[31;1ml\u001b[0m\u001b[31;1ml\u001b[0m\u001b[31;1m \u001b[0m\u001b[31;1mr\u001b[0m\u001b[31;1me\u001b[0m\u001b[31;1ml\u001b[0m\u001b[31;1me\u001b[0m\u001b[31;1mv\u001b[0m\u001b[31;1ma\u001b[0m\u001b[31;1mn\u001b[0m\u001b[31;1mt\u001b[0m\u001b[31;1m \u001b[0m\u001b[31;1ma\u001b[0m\u001b[31;1mn\u001b[0m\u001b[35md\u001b[0m\u001b[35m \u001b[0m\u001b[35m|\u001b[0m\r\n",
      "\u001b[33m|\u001b[0m\u001b[33m \u001b[0m\u001b[33ma\u001b[0m\u001b[33mp\u001b[0m\u001b[33mp\u001b[0m\u001b[33ml\u001b[0m\u001b[33mi\u001b[0m\u001b[33mc\u001b[0m\u001b[33ma\u001b[0m\u001b[33mb\u001b[0m\u001b[33ml\u001b[0m\u001b[33me\u001b[0m\u001b[33m \u001b[0m\u001b[33ml\u001b[0m\u001b[33mo\u001b[0m\u001b[31;1mc\u001b[0m\u001b[31;1ma\u001b[0m\u001b[31;1ml\u001b[0m\u001b[31;1m,\u001b[0m\u001b[31;1m \u001b[0m\u001b[31;1ms\u001b[0m\u001b[31;1mt\u001b[0m\u001b[31;1ma\u001b[0m\u001b[31;1mt\u001b[0m\u001b[31;1me\u001b[0m\u001b[31;1m \u001b[0m\u001b[31;1ma\u001b[0m\u001b[31;1mn\u001b[0m\u001b[31;1md\u001b[0m\u001b[31;1m \u001b[0m\u001b[31;1mf\u001b[0m\u001b[31;1me\u001b[0m\u001b[31;1md\u001b[0m\u001b[31;1me\u001b[0m\u001b[31;1mr\u001b[0m\u001b[31;1ma\u001b[0m\u001b[31;1ml\u001b[0m\u001b[35m \u001b[0m\u001b[35m \u001b[0m\u001b[35m \u001b[0m\u001b[35m \u001b[0m\u001b[35m \u001b[0m\u001b[35m|\u001b[0m\r\n",
      "\u001b[33m|\u001b[0m\u001b[33m \u001b[0m\u001b[33ms\u001b[0m\u001b[33mt\u001b[0m\u001b[33ma\u001b[0m\u001b[33mt\u001b[0m\u001b[33mu\u001b[0m\u001b[33mt\u001b[0m\u001b[33me\u001b[0m\u001b[33ms\u001b[0m\u001b[33m.\u001b[0m\u001b[33m \u001b[0m\u001b[31;1mO\u001b[0m\u001b[31;1mn\u001b[0m\u001b[31;1mc\u001b[0m\u001b[31;1me\u001b[0m\u001b[31;1m \u001b[0m\u001b[31;1ms\u001b[0m\u001b[31;1me\u001b[0m\u001b[31;1mp\u001b[0m\u001b[31;1ma\u001b[0m\u001b[31;1mr\u001b[0m\u001b[31;1ma\u001b[0m\u001b[31;1mt\u001b[0m\u001b[31;1mi\u001b[0m\u001b[31;1mo\u001b[0m\u001b[31;1mn\u001b[0m\u001b[31;1m \u001b[0m\u001b[31;1ma\u001b[0m\u001b[31;1mn\u001b[0m\u001b[31;1md\u001b[0m\u001b[31;1m \u001b[0m\u001b[31;1md\u001b[0m\u001b[31;1mi\u001b[0m\u001b[35ms\u001b[0m\u001b[35mp\u001b[0m\u001b[35mo\u001b[0m\u001b[35ms\u001b[0m\u001b[35ma\u001b[0m\u001b[35ml\u001b[0m\u001b[35m \u001b[0m\u001b[35m \u001b[0m\u001b[35m|\u001b[0m\r\n",
      "\u001b[33m|\u001b[0m\u001b[33m \u001b[0m\u001b[33mh\u001b[0m\u001b[33ma\u001b[0m\u001b[33mv\u001b[0m\u001b[33me\u001b[0m\u001b[33m \u001b[0m\u001b[33mb\u001b[0m\u001b[33me\u001b[0m\u001b[31;1me\u001b[0m\u001b[31;1mn\u001b[0m\u001b[31;1m \u001b[0m\u001b[31;1ma\u001b[0m\u001b[31;1mc\u001b[0m\u001b[31;1mh\u001b[0m\u001b[31;1mi\u001b[0m\u001b[31;1me\u001b[0m\u001b[31;1mv\u001b[0m\u001b[31;1me\u001b[0m\u001b[31;1md\u001b[0m\u001b[31;1m,\u001b[0m\u001b[31;1m \u001b[0m\u001b[31;1mt\u001b[0m\u001b[31;1mh\u001b[0m\u001b[31;1me\u001b[0m\u001b[31;1m \u001b[0m\u001b[31;1mp\u001b[0m\u001b[31;1ma\u001b[0m\u001b[31;1mr\u001b[0m\u001b[31;1mt\u001b[0m\u001b[31;1my\u001b[0m\u001b[35m \u001b[0m\u001b[35mo\u001b[0m\u001b[35mf\u001b[0m\u001b[35m \u001b[0m\u001b[35mt\u001b[0m\u001b[35mh\u001b[0m\u001b[35me\u001b[0m\u001b[35m \u001b[0m\u001b[35m \u001b[0m\u001b[35m \u001b[0m\u001b[35m \u001b[0m\u001b[35m|\u001b[0m\r\n",
      "\u001b[33m|\u001b[0m\u001b[33m \u001b[0m\u001b[33mf\u001b[0m\u001b[33mi\u001b[0m\u001b[33mr\u001b[0m\u001b[33ms\u001b[0m\u001b[31;1mt\u001b[0m\u001b[31;1m \u001b[0m\u001b[31;1mp\u001b[0m\u001b[31;1ma\u001b[0m\u001b[31;1mr\u001b[0m\u001b[31;1mt\u001b[0m\u001b[31;1m \u001b[0m\u001b[31;1ms\u001b[0m\u001b[31;1mh\u001b[0m\u001b[31;1ma\u001b[0m\u001b[31;1ml\u001b[0m\u001b[31;1ml\u001b[0m\u001b[31;1m \u001b[0m\u001b[31;1mh\u001b[0m\u001b[31;1ma\u001b[0m\u001b[31;1mv\u001b[0m\u001b[31;1me\u001b[0m\u001b[31;1m \u001b[0m\u001b[31;1mt\u001b[0m\u001b[31;1mh\u001b[0m\u001b[31;1me\u001b[0m\u001b[31;1m \u001b[0m\u001b[35mo\u001b[0m\u001b[35mp\u001b[0m\u001b[35mt\u001b[0m\u001b[35mi\u001b[0m\u001b[35mo\u001b[0m\u001b[35mn\u001b[0m\u001b[35m \u001b[0m\u001b[35mo\u001b[0m\u001b[35mf\u001b[0m\u001b[35m \u001b[0m\u001b[35m \u001b[0m\u001b[35m \u001b[0m\u001b[35m \u001b[0m\u001b[35m \u001b[0m\u001b[35m|\u001b[0m\r\n",
      "\u001b[33m|\u001b[0m\u001b[33m \u001b[0m\u001b[33mb\u001b[0m\u001b[31;1me\u001b[0m\u001b[31;1mg\u001b[0m\u001b[31;1mi\u001b[0m\u001b[31;1mn\u001b[0m\u001b[31;1mn\u001b[0m\u001b[31;1mi\u001b[0m\u001b[31;1mn\u001b[0m\u001b[31;1mg\u001b[0m\u001b[31;1m \u001b[0m\u001b[31;1mi\u001b[0m\u001b[31;1mn\u001b[0m\u001b[31;1ms\u001b[0m\u001b[31;1mt\u001b[0m\u001b[31;1ma\u001b[0m\u001b[31;1ml\u001b[0m\u001b[31;1ml\u001b[0m\u001b[31;1ma\u001b[0m\u001b[31;1mt\u001b[0m\u001b[31;1mi\u001b[0m\u001b[31;1mo\u001b[0m\u001b[31;1mn\u001b[0m\u001b[31;1m.\u001b[0m\u001b[35m \u001b[0m\u001b[35mA\u001b[0m\u001b[35mf\u001b[0m\u001b[35mo\u001b[0m\u001b[35mr\u001b[0m\u001b[35me\u001b[0m\u001b[35ms\u001b[0m\u001b[35ma\u001b[0m\u001b[35mi\u001b[0m\u001b[35md\u001b[0m\u001b[35m \u001b[0m\u001b[35m \u001b[0m\u001b[35m \u001b[0m\u001b[35m \u001b[0m\u001b[35m \u001b[0m\u001b[35m \u001b[0m\u001b[35m \u001b[0m\u001b[35m|\u001b[0m\r\n",
      "\u001b[31;1m|\u001b[0m\u001b[31;1m \u001b[0m\u001b[31;1mi\u001b[0m\u001b[31;1mn\u001b[0m\u001b[31;1ms\u001b[0m\u001b[31;1mt\u001b[0m\u001b[31;1ma\u001b[0m\u001b[31;1ml\u001b[0m\u001b[31;1ml\u001b[0m\u001b[31;1ma\u001b[0m\u001b[31;1mt\u001b[0m\u001b[31;1mi\u001b[0m\u001b[31;1mo\u001b[0m\u001b[31;1mn\u001b[0m\u001b[31;1m \u001b[0m\u001b[31;1ms\u001b[0m\u001b[31;1mh\u001b[0m\u001b[31;1ma\u001b[0m\u001b[31;1ml\u001b[0m\u001b[31;1ml\u001b[0m\u001b[31;1m \u001b[0m\u001b[31;1mo\u001b[0m\u001b[35mc\u001b[0m\u001b[35mc\u001b[0m\u001b[35mu\u001b[0m\u001b[35mr\u001b[0m\u001b[35m \u001b[0m\u001b[35mi\u001b[0m\u001b[35mn\u001b[0m\u001b[35m \u001b[0m\u001b[35ma\u001b[0m\u001b[35m \u001b[0m\u001b[35mm\u001b[0m\u001b[35ma\u001b[0m\u001b[35mn\u001b[0m\u001b[35mn\u001b[0m\u001b[35me\u001b[0m\u001b[35mr\u001b[0m\u001b[35m \u001b[0m\u001b[35m \u001b[0m\u001b[35m \u001b[0m\u001b[35m \u001b[0m\u001b[35m|\u001b[0m\r\n",
      "\u001b[31;1m|\u001b[0m\u001b[31;1m \u001b[0m\u001b[31;1mc\u001b[0m\u001b[31;1mo\u001b[0m\u001b[31;1mn\u001b[0m\u001b[31;1ms\u001b[0m\u001b[31;1mi\u001b[0m\u001b[31;1ms\u001b[0m\u001b[31;1mt\u001b[0m\u001b[31;1me\u001b[0m\u001b[31;1mn\u001b[0m\u001b[31;1mt\u001b[0m\u001b[31;1m \u001b[0m\u001b[31;1mw\u001b[0m\u001b[31;1mi\u001b[0m\u001b[31;1mt\u001b[0m\u001b[31;1mh\u001b[0m\u001b[31;1m \u001b[0m\u001b[31;1mt\u001b[0m\u001b[35mh\u001b[0m\u001b[35me\u001b[0m\u001b[35m \u001b[0m\u001b[35mr\u001b[0m\u001b[35me\u001b[0m\u001b[35mv\u001b[0m\u001b[35me\u001b[0m\u001b[35mr\u001b[0m\u001b[35ms\u001b[0m\u001b[35me\u001b[0m\u001b[35m \u001b[0m\u001b[35mo\u001b[0m\u001b[35mf\u001b[0m\u001b[35m \u001b[0m\u001b[35mt\u001b[0m\u001b[35mh\u001b[0m\u001b[35me\u001b[0m\u001b[35m \u001b[0m\u001b[35m \u001b[0m\u001b[35m \u001b[0m\u001b[35m \u001b[0m\u001b[35m \u001b[0m\u001b[35m \u001b[0m\u001b[35m|\u001b[0m\r\n",
      "\u001b[31;1m|\u001b[0m\u001b[31;1m \u001b[0m\u001b[31;1mp\u001b[0m\u001b[31;1mr\u001b[0m\u001b[31;1mo\u001b[0m\u001b[31;1mc\u001b[0m\u001b[31;1me\u001b[0m\u001b[31;1md\u001b[0m\u001b[31;1mu\u001b[0m\u001b[31;1mr\u001b[0m\u001b[31;1me\u001b[0m\u001b[31;1ms\u001b[0m\u001b[31;1m \u001b[0m\u001b[31;1md\u001b[0m\u001b[31;1me\u001b[0m\u001b[31;1ms\u001b[0m\u001b[35mc\u001b[0m\u001b[35mr\u001b[0m\u001b[35mi\u001b[0m\u001b[35mb\u001b[0m\u001b[35me\u001b[0m\u001b[35md\u001b[0m\u001b[35m \u001b[0m\u001b[35mi\u001b[0m\u001b[35mn\u001b[0m\u001b[35m \u001b[0m\u001b[35ms\u001b[0m\u001b[35mt\u001b[0m\u001b[35me\u001b[0m\u001b[35mp\u001b[0m\u001b[35m \u001b[0m\u001b[35mo\u001b[0m\u001b[35mn\u001b[0m\u001b[35me\u001b[0m\u001b[35m \u001b[0m\u001b[35mo\u001b[0m\u001b[35mf\u001b[0m\u001b[35m \u001b[0m\u001b[35m \u001b[0m\u001b[35m \u001b[0m\u001b[35m \u001b[0m\u001b[35m \u001b[0m\u001b[35m|\u001b[0m\r\n",
      "\u001b[31;1m|\u001b[0m\u001b[31;1m \u001b[0m\u001b[31;1mt\u001b[0m\u001b[31;1mh\u001b[0m\u001b[31;1mi\u001b[0m\u001b[31;1ms\u001b[0m\u001b[31;1m \u001b[0m\u001b[31;1ms\u001b[0m\u001b[31;1me\u001b[0m\u001b[31;1ml\u001b[0m\u001b[31;1mf\u001b[0m\u001b[31;1m-\u001b[0m\u001b[31;1ms\u001b[0m\u001b[35ma\u001b[0m\u001b[35mm\u001b[0m\u001b[35me\u001b[0m\u001b[35m \u001b[0m\u001b[35md\u001b[0m\u001b[35mo\u001b[0m\u001b[35mc\u001b[0m\u001b[35mu\u001b[0m\u001b[35mm\u001b[0m\u001b[35me\u001b[0m\u001b[35mn\u001b[0m\u001b[35mt\u001b[0m\u001b[35m,\u001b[0m\u001b[35m \u001b[0m\u001b[35mb\u001b[0m\u001b[35me\u001b[0m\u001b[35mi\u001b[0m\u001b[35mn\u001b[0m\u001b[35mg\u001b[0m\u001b[35m \u001b[0m\u001b[35mc\u001b[0m\u001b[35ma\u001b[0m\u001b[35mr\u001b[0m\u001b[35me\u001b[0m\u001b[35mf\u001b[0m\u001b[35mu\u001b[0m\u001b[35ml\u001b[0m\u001b[35m \u001b[0m\u001b[35m \u001b[0m\u001b[35m|\u001b[0m\r\n",
      "\u001b[31;1m|\u001b[0m\u001b[31;1m \u001b[0m\u001b[31;1mt\u001b[0m\u001b[31;1mo\u001b[0m\u001b[31;1m \u001b[0m\u001b[31;1mn\u001b[0m\u001b[31;1mo\u001b[0m\u001b[31;1mt\u001b[0m\u001b[31;1me\u001b[0m\u001b[31;1m \u001b[0m\u001b[35mt\u001b[0m\u001b[35mh\u001b[0m\u001b[35ma\u001b[0m\u001b[35mt\u001b[0m\u001b[35m \u001b[0m\u001b[35mt\u001b[0m\u001b[35mh\u001b[0m\u001b[35me\u001b[0m\u001b[35m \u001b[0m\u001b[35mr\u001b[0m\u001b[35mo\u001b[0m\u001b[35mt\u001b[0m\u001b[35ma\u001b[0m\u001b[35mt\u001b[0m\u001b[35mi\u001b[0m\u001b[35mo\u001b[0m\u001b[35mn\u001b[0m\u001b[35m \u001b[0m\u001b[35ms\u001b[0m\u001b[35mh\u001b[0m\u001b[35mo\u001b[0m\u001b[35mu\u001b[0m\u001b[35ml\u001b[0m\u001b[35md\u001b[0m\u001b[35m \u001b[0m\u001b[35mo\u001b[0m\u001b[35mc\u001b[0m\u001b[35mc\u001b[0m\u001b[35mu\u001b[0m\u001b[35mr\u001b[0m\u001b[35m \u001b[0m\u001b[35m \u001b[0m\u001b[35m|\u001b[0m\r\n",
      "\u001b[31;1m|\u001b[0m\u001b[31;1m \u001b[0m\u001b[31;1mi\u001b[0m\u001b[31;1mn\u001b[0m\u001b[31;1m \u001b[0m\u001b[31;1ma\u001b[0m\u001b[31;1m \u001b[0m\u001b[35mc\u001b[0m\u001b[35ml\u001b[0m\u001b[35mo\u001b[0m\u001b[35mc\u001b[0m\u001b[35mk\u001b[0m\u001b[35mw\u001b[0m\u001b[35mi\u001b[0m\u001b[35ms\u001b[0m\u001b[35me\u001b[0m\u001b[35m \u001b[0m\u001b[35md\u001b[0m\u001b[35mi\u001b[0m\u001b[35mr\u001b[0m\u001b[35me\u001b[0m\u001b[35mc\u001b[0m\u001b[35mt\u001b[0m\u001b[35mi\u001b[0m\u001b[35mo\u001b[0m\u001b[35mn\u001b[0m\u001b[35m,\u001b[0m\u001b[35m \u001b[0m\u001b[35mt\u001b[0m\u001b[35mh\u001b[0m\u001b[35mi\u001b[0m\u001b[35ms\u001b[0m\u001b[35m \u001b[0m\u001b[35mp\u001b[0m\u001b[35mo\u001b[0m\u001b[35mi\u001b[0m\u001b[35mn\u001b[0m\u001b[35mt\u001b[0m\u001b[35m \u001b[0m\u001b[35m \u001b[0m\u001b[35m \u001b[0m\u001b[35m \u001b[0m\u001b[35m|\u001b[0m\r\n",
      "\u001b[31;1m|\u001b[0m\u001b[31;1m \u001b[0m\u001b[31;1ma\u001b[0m\u001b[31;1ml\u001b[0m\u001b[35ms\u001b[0m\u001b[35mo\u001b[0m\u001b[35m \u001b[0m\u001b[35mb\u001b[0m\u001b[35me\u001b[0m\u001b[35mi\u001b[0m\u001b[35mn\u001b[0m\u001b[35mg\u001b[0m\u001b[35m \u001b[0m\u001b[35mn\u001b[0m\u001b[35mo\u001b[0m\u001b[35mn\u001b[0m\u001b[35m-\u001b[0m\u001b[35mn\u001b[0m\u001b[35me\u001b[0m\u001b[35mg\u001b[0m\u001b[35mo\u001b[0m\u001b[35mt\u001b[0m\u001b[35mi\u001b[0m\u001b[35ma\u001b[0m\u001b[35mb\u001b[0m\u001b[35ml\u001b[0m\u001b[35me\u001b[0m\u001b[35m.\u001b[0m\u001b[35m \u001b[0m\u001b[35mT\u001b[0m\u001b[35mh\u001b[0m\u001b[35me\u001b[0m\u001b[35m \u001b[0m\u001b[35ma\u001b[0m\u001b[35mb\u001b[0m\u001b[35mo\u001b[0m\u001b[35mv\u001b[0m\u001b[35me\u001b[0m\u001b[35m \u001b[0m\u001b[35m \u001b[0m\u001b[34;1m \u001b[0m\u001b[34;1m \u001b[0m\u001b[34;1m|\u001b[0m\r\n",
      "\u001b[31;1m|\u001b[0m\u001b[35m \u001b[0m\u001b[35md\u001b[0m\u001b[35me\u001b[0m\u001b[35ms\u001b[0m\u001b[35mc\u001b[0m\u001b[35mr\u001b[0m\u001b[35mi\u001b[0m\u001b[35mb\u001b[0m\u001b[35me\u001b[0m\u001b[35md\u001b[0m\u001b[35m \u001b[0m\u001b[35ms\u001b[0m\u001b[35mt\u001b[0m\u001b[35me\u001b[0m\u001b[35mp\u001b[0m\u001b[35ms\u001b[0m\u001b[35m \u001b[0m\u001b[35mm\u001b[0m\u001b[35ma\u001b[0m\u001b[35my\u001b[0m\u001b[35m \u001b[0m\u001b[35mb\u001b[0m\u001b[35me\u001b[0m\u001b[35m \u001b[0m\u001b[35mp\u001b[0m\u001b[35me\u001b[0m\u001b[35mr\u001b[0m\u001b[35mf\u001b[0m\u001b[35mo\u001b[0m\u001b[35mr\u001b[0m\u001b[35mm\u001b[0m\u001b[35me\u001b[0m\u001b[35md\u001b[0m\u001b[35m,\u001b[0m\u001b[35m \u001b[0m\u001b[35ma\u001b[0m\u001b[34;1mt\u001b[0m\u001b[34;1m \u001b[0m\u001b[34;1m \u001b[0m\u001b[34;1m \u001b[0m\u001b[34;1m \u001b[0m\u001b[34;1m|\u001b[0m\r\n",
      "\u001b[35m|\u001b[0m\u001b[35m \u001b[0m\u001b[35mt\u001b[0m\u001b[35mh\u001b[0m\u001b[35me\u001b[0m\u001b[35m \u001b[0m\u001b[35mo\u001b[0m\u001b[35mp\u001b[0m\u001b[35mt\u001b[0m\u001b[35mi\u001b[0m\u001b[35mo\u001b[0m\u001b[35mn\u001b[0m\u001b[35m \u001b[0m\u001b[35mo\u001b[0m\u001b[35mf\u001b[0m\u001b[35m \u001b[0m\u001b[35mt\u001b[0m\u001b[35mh\u001b[0m\u001b[35me\u001b[0m\u001b[35m \u001b[0m\u001b[35mp\u001b[0m\u001b[35ma\u001b[0m\u001b[35mr\u001b[0m\u001b[35mt\u001b[0m\u001b[35my\u001b[0m\u001b[35m \u001b[0m\u001b[35mo\u001b[0m\u001b[35mf\u001b[0m\u001b[35m \u001b[0m\u001b[35mt\u001b[0m\u001b[35mh\u001b[0m\u001b[35me\u001b[0m\u001b[35m \u001b[0m\u001b[35mf\u001b[0m\u001b[34;1mi\u001b[0m\u001b[34;1mr\u001b[0m\u001b[34;1ms\u001b[0m\u001b[34;1mt\u001b[0m\u001b[34;1m \u001b[0m\u001b[34;1m \u001b[0m\u001b[34;1m \u001b[0m\u001b[34;1m \u001b[0m\u001b[34;1m|\u001b[0m\r\n",
      "\u001b[35m|\u001b[0m\u001b[35m \u001b[0m\u001b[35mp\u001b[0m\u001b[35ma\u001b[0m\u001b[35mr\u001b[0m\u001b[35mt\u001b[0m\u001b[35m,\u001b[0m\u001b[35m \u001b[0m\u001b[35mb\u001b[0m\u001b[35my\u001b[0m\u001b[35m \u001b[0m\u001b[35ma\u001b[0m\u001b[35mn\u001b[0m\u001b[35my\u001b[0m\u001b[35m \u001b[0m\u001b[35mo\u001b[0m\u001b[35mr\u001b[0m\u001b[35m \u001b[0m\u001b[35ma\u001b[0m\u001b[35ml\u001b[0m\u001b[35ml\u001b[0m\u001b[35m \u001b[0m\u001b[35ma\u001b[0m\u001b[35mg\u001b[0m\u001b[35me\u001b[0m\u001b[35mn\u001b[0m\u001b[35mt\u001b[0m\u001b[35ms\u001b[0m\u001b[35m \u001b[0m\u001b[35ma\u001b[0m\u001b[35mu\u001b[0m\u001b[34;1mt\u001b[0m\u001b[34;1mh\u001b[0m\u001b[34;1mo\u001b[0m\u001b[34;1mr\u001b[0m\u001b[34;1mi\u001b[0m\u001b[34;1mz\u001b[0m\u001b[34;1me\u001b[0m\u001b[34;1md\u001b[0m\u001b[34;1m \u001b[0m\u001b[34;1m \u001b[0m\u001b[34;1m \u001b[0m\u001b[34;1m|\u001b[0m\r\n",
      "\u001b[35m|\u001b[0m\u001b[35m \u001b[0m\u001b[35mb\u001b[0m\u001b[35my\u001b[0m\u001b[35m \u001b[0m\u001b[35mh\u001b[0m\u001b[35mi\u001b[0m\u001b[35mm\u001b[0m\u001b[35m,\u001b[0m\u001b[35m \u001b[0m\u001b[35mt\u001b[0m\u001b[35mh\u001b[0m\u001b[35me\u001b[0m\u001b[35m \u001b[0m\u001b[35mo\u001b[0m\u001b[35mb\u001b[0m\u001b[35mj\u001b[0m\u001b[35me\u001b[0m\u001b[35mc\u001b[0m\u001b[35mt\u001b[0m\u001b[35mi\u001b[0m\u001b[35mv\u001b[0m\u001b[35me\u001b[0m\u001b[35m \u001b[0m\u001b[35mb\u001b[0m\u001b[35me\u001b[0m\u001b[35mi\u001b[0m\u001b[35mn\u001b[0m\u001b[34;1mg\u001b[0m\u001b[34;1m \u001b[0m\u001b[34;1mt\u001b[0m\u001b[34;1mo\u001b[0m\u001b[34;1m \u001b[0m\u001b[34;1mp\u001b[0m\u001b[34;1mr\u001b[0m\u001b[34;1mo\u001b[0m\u001b[34;1md\u001b[0m\u001b[34;1mu\u001b[0m\u001b[34;1mc\u001b[0m\u001b[34;1me\u001b[0m\u001b[34;1m \u001b[0m\u001b[34;1m \u001b[0m\u001b[34;1m|\u001b[0m\r\n",
      "\u001b[35m|\u001b[0m\u001b[35m \u001b[0m\u001b[35mt\u001b[0m\u001b[35mh\u001b[0m\u001b[35me\u001b[0m\u001b[35m \u001b[0m\u001b[35mm\u001b[0m\u001b[35mo\u001b[0m\u001b[35ms\u001b[0m\u001b[35mt\u001b[0m\u001b[35m \u001b[0m\u001b[35mp\u001b[0m\u001b[35mo\u001b[0m\u001b[35ms\u001b[0m\u001b[35ms\u001b[0m\u001b[35mi\u001b[0m\u001b[35mb\u001b[0m\u001b[35ml\u001b[0m\u001b[35me\u001b[0m\u001b[35m \u001b[0m\u001b[35mr\u001b[0m\u001b[35me\u001b[0m\u001b[35mv\u001b[0m\u001b[35me\u001b[0m\u001b[35mn\u001b[0m\u001b[34;1mu\u001b[0m\u001b[34;1me\u001b[0m\u001b[34;1m \u001b[0m\u001b[34;1mf\u001b[0m\u001b[34;1mo\u001b[0m\u001b[34;1mr\u001b[0m\u001b[34;1m \u001b[0m\u001b[34;1mt\u001b[0m\u001b[34;1mh\u001b[0m\u001b[34;1me\u001b[0m\u001b[34;1m \u001b[0m\u001b[34;1m \u001b[0m\u001b[34;1m \u001b[0m\u001b[34;1m \u001b[0m\u001b[34;1m \u001b[0m\u001b[34;1m \u001b[0m\u001b[34;1m \u001b[0m\u001b[34;1m|\u001b[0m\r\n",
      "\u001b[35m\\\u001b[0m\u001b[35m \u001b[0m\u001b[35mP\u001b[0m\u001b[35ma\u001b[0m\u001b[35mr\u001b[0m\u001b[35mt\u001b[0m\u001b[35mn\u001b[0m\u001b[35me\u001b[0m\u001b[35mr\u001b[0m\u001b[35ms\u001b[0m\u001b[35mh\u001b[0m\u001b[35mi\u001b[0m\u001b[35mp\u001b[0m\u001b[35m.\u001b[0m\u001b[35m \u001b[0m\u001b[35m \u001b[0m\u001b[35m \u001b[0m\u001b[35m \u001b[0m\u001b[35m \u001b[0m\u001b[35m \u001b[0m\u001b[35m \u001b[0m\u001b[35m \u001b[0m\u001b[34;1m \u001b[0m\u001b[34;1m \u001b[0m\u001b[34;1m \u001b[0m\u001b[34;1m \u001b[0m\u001b[34;1m \u001b[0m\u001b[34;1m \u001b[0m\u001b[34;1m \u001b[0m\u001b[34;1m \u001b[0m\u001b[34;1m \u001b[0m\u001b[34;1m \u001b[0m\u001b[34;1m \u001b[0m\u001b[34;1m \u001b[0m\u001b[34;1m \u001b[0m\u001b[34;1m \u001b[0m\u001b[34;1m \u001b[0m\u001b[34;1m \u001b[0m\u001b[34;1m \u001b[0m\u001b[34;1m \u001b[0m\u001b[34;1m \u001b[0m\u001b[34;1m \u001b[0m\u001b[34;1m/\u001b[0m\r\n",
      "\u001b[35m \u001b[0m\u001b[35m-\u001b[0m\u001b[35m-\u001b[0m\u001b[35m-\u001b[0m\u001b[35m-\u001b[0m\u001b[35m-\u001b[0m\u001b[35m-\u001b[0m\u001b[35m-\u001b[0m\u001b[35m-\u001b[0m\u001b[35m-\u001b[0m\u001b[35m-\u001b[0m\u001b[35m-\u001b[0m\u001b[35m-\u001b[0m\u001b[35m-\u001b[0m\u001b[35m-\u001b[0m\u001b[35m-\u001b[0m\u001b[35m-\u001b[0m\u001b[35m-\u001b[0m\u001b[35m-\u001b[0m\u001b[34;1m-\u001b[0m\u001b[34;1m-\u001b[0m\u001b[34;1m-\u001b[0m\u001b[34;1m-\u001b[0m\u001b[34;1m-\u001b[0m\u001b[34;1m-\u001b[0m\u001b[34;1m-\u001b[0m\u001b[34;1m-\u001b[0m\u001b[34;1m-\u001b[0m\u001b[34;1m-\u001b[0m\u001b[34;1m-\u001b[0m\u001b[34;1m-\u001b[0m\u001b[34;1m-\u001b[0m\u001b[34;1m-\u001b[0m\u001b[34;1m-\u001b[0m\u001b[34;1m-\u001b[0m\u001b[34;1m-\u001b[0m\u001b[34;1m-\u001b[0m\u001b[34;1m-\u001b[0m\u001b[34;1m-\u001b[0m\u001b[34;1m-\u001b[0m\u001b[34;1m-\u001b[0m\u001b[34;1m-\u001b[0m\r\n",
      "\u001b[35m \u001b[0m\u001b[35m \u001b[0m\u001b[35m \u001b[0m\u001b[35m \u001b[0m\u001b[35m \u001b[0m\u001b[35m \u001b[0m\u001b[35m \u001b[0m\u001b[35m \u001b[0m\u001b[35m\\\u001b[0m\u001b[35m \u001b[0m\u001b[35m \u001b[0m\u001b[35m \u001b[0m\u001b[35m^\u001b[0m\u001b[35m_\u001b[0m\u001b[35m_\u001b[0m\u001b[35m^\u001b[0m\r\n",
      "\u001b[35m \u001b[0m\u001b[35m \u001b[0m\u001b[35m \u001b[0m\u001b[35m \u001b[0m\u001b[35m \u001b[0m\u001b[35m \u001b[0m\u001b[35m \u001b[0m\u001b[35m \u001b[0m\u001b[35m \u001b[0m\u001b[35m\\\u001b[0m\u001b[35m \u001b[0m\u001b[35m \u001b[0m\u001b[35m(\u001b[0m\u001b[34;1mo\u001b[0m\u001b[34;1mo\u001b[0m\u001b[34;1m)\u001b[0m\u001b[34;1m\\\u001b[0m\u001b[34;1m_\u001b[0m\u001b[34;1m_\u001b[0m\u001b[34;1m_\u001b[0m\u001b[34;1m_\u001b[0m\u001b[34;1m_\u001b[0m\u001b[34;1m_\u001b[0m\u001b[34;1m_\u001b[0m\r\n",
      "\u001b[35m \u001b[0m\u001b[35m \u001b[0m\u001b[35m \u001b[0m\u001b[35m \u001b[0m\u001b[35m \u001b[0m\u001b[35m \u001b[0m\u001b[35m \u001b[0m\u001b[35m \u001b[0m\u001b[35m \u001b[0m\u001b[35m \u001b[0m\u001b[34;1m \u001b[0m\u001b[34;1m \u001b[0m\u001b[34;1m(\u001b[0m\u001b[34;1m_\u001b[0m\u001b[34;1m_\u001b[0m\u001b[34;1m)\u001b[0m\u001b[34;1m\\\u001b[0m\u001b[34;1m \u001b[0m\u001b[34;1m \u001b[0m\u001b[34;1m \u001b[0m\u001b[34;1m \u001b[0m\u001b[34;1m \u001b[0m\u001b[34;1m \u001b[0m\u001b[34;1m \u001b[0m\u001b[34;1m)\u001b[0m\u001b[34;1m\\\u001b[0m\u001b[34;1m/\u001b[0m\u001b[34;1m\\\u001b[0m\r\n",
      "\u001b[35m \u001b[0m\u001b[35m \u001b[0m\u001b[35m \u001b[0m\u001b[35m \u001b[0m\u001b[35m \u001b[0m\u001b[35m \u001b[0m\u001b[35m \u001b[0m\u001b[34;1m \u001b[0m\u001b[34;1m \u001b[0m\u001b[34;1m \u001b[0m\u001b[34;1m \u001b[0m\u001b[34;1m \u001b[0m\u001b[34;1m \u001b[0m\u001b[34;1m \u001b[0m\u001b[34;1m \u001b[0m\u001b[34;1m \u001b[0m\u001b[34;1m|\u001b[0m\u001b[34;1m|\u001b[0m\u001b[34;1m-\u001b[0m\u001b[34;1m-\u001b[0m\u001b[34;1m-\u001b[0m\u001b[34;1m-\u001b[0m\u001b[34;1mw\u001b[0m\u001b[34;1m \u001b[0m\u001b[34;1m|\u001b[0m\r\n",
      "\u001b[35m \u001b[0m\u001b[35m \u001b[0m\u001b[35m \u001b[0m\u001b[35m \u001b[0m\u001b[34;1m \u001b[0m\u001b[34;1m \u001b[0m\u001b[34;1m \u001b[0m\u001b[34;1m \u001b[0m\u001b[34;1m \u001b[0m\u001b[34;1m \u001b[0m\u001b[34;1m \u001b[0m\u001b[34;1m \u001b[0m\u001b[34;1m \u001b[0m\u001b[34;1m \u001b[0m\u001b[34;1m \u001b[0m\u001b[34;1m \u001b[0m\u001b[34;1m|\u001b[0m\u001b[34;1m|\u001b[0m\u001b[34;1m \u001b[0m\u001b[34;1m \u001b[0m\u001b[34;1m \u001b[0m\u001b[34;1m \u001b[0m\u001b[34;1m \u001b[0m\u001b[34;1m|\u001b[0m\u001b[34;1m|\u001b[0m\r\n"
     ]
    }
   ],
   "source": [
    "!singularity run image_latest.sif"
   ]
  }
 ],
 "metadata": {
  "kernelspec": {
   "display_name": "Python 3 (ipykernel)",
   "language": "python",
   "name": "python3"
  },
  "language_info": {
   "codemirror_mode": {
    "name": "ipython",
    "version": 3
   },
   "file_extension": ".py",
   "mimetype": "text/x-python",
   "name": "python",
   "nbconvert_exporter": "python",
   "pygments_lexer": "ipython3",
   "version": "3.8.12"
  },
  "toc": {
   "base_numbering": 1,
   "nav_menu": {},
   "number_sections": true,
   "sideBar": true,
   "skip_h1_title": false,
   "title_cell": "Table of Contents",
   "title_sidebar": "Contents",
   "toc_cell": false,
   "toc_position": {},
   "toc_section_display": true,
   "toc_window_display": true
  }
 },
 "nbformat": 4,
 "nbformat_minor": 5
}
