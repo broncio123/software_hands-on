{
 "cells": [
  {
   "cell_type": "markdown",
   "id": "c4bd00b8",
   "metadata": {},
   "source": [
    "# My first Flask tutorial :) "
   ]
  },
  {
   "cell_type": "markdown",
   "id": "c7aa0512",
   "metadata": {},
   "source": [
    "EXAMPLE SCRIPT 1"
   ]
  },
  {
   "cell_type": "code",
   "execution_count": 6,
   "id": "1c6d50d0",
   "metadata": {},
   "outputs": [
    {
     "name": "stdout",
     "output_type": "stream",
     "text": [
      "Writing myflask_HelloWorld.py\n"
     ]
    }
   ],
   "source": [
    "%%writefile myflask_HelloWorld.py\n",
    "from flask import Flask\n",
    "\n",
    "app = Flask(__name__)\n",
    "\n",
    "@app.route('/') # decorator\n",
    "def hello():\n",
    "    '''viewing function'''\n",
    "    return \"Hello World! :)\"; \n",
    "\n",
    "if __name__ == \"__main__\":\n",
    "    app.run(debug = True, host = \"0.0.0.0\", port = 3000)"
   ]
  },
  {
   "cell_type": "markdown",
   "id": "60ea6cf0",
   "metadata": {},
   "source": [
    "Explanation\n",
    "\n",
    "* `route` binds a given `URL` (here `/` -  the default route) to a view function (here `hello()`)"
   ]
  },
  {
   "cell_type": "markdown",
   "id": "dbce881b",
   "metadata": {},
   "source": [
    "EXAMPLE SCRIPT 2"
   ]
  },
  {
   "cell_type": "code",
   "execution_count": 8,
   "id": "35bb01be",
   "metadata": {},
   "outputs": [
    {
     "name": "stdout",
     "output_type": "stream",
     "text": [
      "Overwriting myflask_TwoRoutes.py\n"
     ]
    }
   ],
   "source": [
    "%%writefile myflask_TwoRoutes.py\n",
    "from flask import Flask\n",
    "\n",
    "app = Flask(__name__)\n",
    "\n",
    "@app.route('/') # decorator\n",
    "def home():\n",
    "    '''viewing function - home or first landing page'''\n",
    "    return \"Welcome home! :)\"; \n",
    "\n",
    "\n",
    "@app.route('/educative')\n",
    "def leanr():\n",
    "    '''viewing function - appended page'''\n",
    "    return \"Ready to learn!\"\n",
    "\n",
    "if __name__ == \"__main__\":\n",
    "    app.run(debug = True, host = \"0.0.0.0\", port = 3001)"
   ]
  },
  {
   "cell_type": "markdown",
   "id": "9f7fc57c",
   "metadata": {},
   "source": [
    "SOURCE\n",
    "\n",
    "* https://www.educative.io/blog/python-flask-tutorial "
   ]
  },
  {
   "cell_type": "code",
   "execution_count": null,
   "id": "37e89bcf",
   "metadata": {},
   "outputs": [],
   "source": []
  }
 ],
 "metadata": {
  "kernelspec": {
   "display_name": "Python 3",
   "language": "python",
   "name": "python3"
  },
  "language_info": {
   "codemirror_mode": {
    "name": "ipython",
    "version": 3
   },
   "file_extension": ".py",
   "mimetype": "text/x-python",
   "name": "python",
   "nbconvert_exporter": "python",
   "pygments_lexer": "ipython3",
   "version": "3.8.8"
  }
 },
 "nbformat": 4,
 "nbformat_minor": 5
}
