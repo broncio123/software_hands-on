{
 "cells": [
  {
   "cell_type": "markdown",
   "id": "c4bd00b8",
   "metadata": {},
   "source": [
    "# My first Flask tutorial :) "
   ]
  },
  {
   "cell_type": "markdown",
   "id": "c7aa0512",
   "metadata": {},
   "source": [
    "EXAMPLE SCRIPT 1"
   ]
  },
  {
   "cell_type": "code",
   "execution_count": 6,
   "id": "1c6d50d0",
   "metadata": {},
   "outputs": [
    {
     "name": "stdout",
     "output_type": "stream",
     "text": [
      "Writing myflask_HelloWorld.py\n"
     ]
    }
   ],
   "source": [
    "%%writefile myflask_HelloWorld.py\n",
    "from flask import Flask\n",
    "\n",
    "app = Flask(__name__)\n",
    "\n",
    "@app.route('/') # decorator\n",
    "def hello():\n",
    "    '''viewing function'''\n",
    "    return \"Hello World! :)\"; \n",
    "\n",
    "if __name__ == \"__main__\":\n",
    "    app.run(debug = True, host = \"0.0.0.0\", port = 3000)"
   ]
  },
  {
   "cell_type": "markdown",
   "id": "60ea6cf0",
   "metadata": {},
   "source": [
    "Explanation\n",
    "\n",
    "* `route` binds a given `URL` (here `/` -  the default route) to a view function (here `hello()`)"
   ]
  },
  {
   "cell_type": "markdown",
   "id": "dbce881b",
   "metadata": {},
   "source": [
    "EXAMPLE SCRIPT 2"
   ]
  },
  {
   "cell_type": "code",
   "execution_count": 8,
   "id": "35bb01be",
   "metadata": {},
   "outputs": [
    {
     "name": "stdout",
     "output_type": "stream",
     "text": [
      "Overwriting myflask_TwoRoutes.py\n"
     ]
    }
   ],
   "source": [
    "%%writefile myflask_TwoRoutes.py\n",
    "from flask import Flask\n",
    "\n",
    "app = Flask(__name__)\n",
    "\n",
    "@app.route('/') # decorator\n",
    "def home():\n",
    "    '''viewing function - home or first landing page'''\n",
    "    return \"Welcome home! :)\"; \n",
    "\n",
    "\n",
    "@app.route('/educative')\n",
    "def leanr():\n",
    "    '''viewing function - appended page'''\n",
    "    return \"Ready to learn!\"\n",
    "\n",
    "if __name__ == \"__main__\":\n",
    "    app.run(debug = True, host = \"0.0.0.0\", port = 3001)"
   ]
  },
  {
   "cell_type": "markdown",
   "id": "9f7fc57c",
   "metadata": {},
   "source": [
    "SOURCE\n",
    "\n",
    "* https://www.educative.io/blog/python-flask-tutorial "
   ]
  },
  {
   "cell_type": "markdown",
   "id": "a6df591a",
   "metadata": {},
   "source": [
    "Execute script "
   ]
  },
  {
   "cell_type": "code",
   "execution_count": 2,
   "id": "37e89bcf",
   "metadata": {},
   "outputs": [
    {
     "name": "stdout",
     "output_type": "stream",
     "text": [
      " * Serving Flask app \"myflask_HelloWorld\" (lazy loading)\n",
      " * Environment: production\n",
      "\u001b[31m   WARNING: This is a development server. Do not use it in a production deployment.\u001b[0m\n",
      "\u001b[2m   Use a production WSGI server instead.\u001b[0m\n",
      " * Debug mode: on\n"
     ]
    },
    {
     "name": "stderr",
     "output_type": "stream",
     "text": [
      " * Running on http://0.0.0.0:3000/ (Press CTRL+C to quit)\n",
      " * Restarting with inotify reloader\n"
     ]
    }
   ],
   "source": [
    "%run myflask_HelloWorld.py"
   ]
  },
  {
   "cell_type": "markdown",
   "id": "777ce308",
   "metadata": {},
   "source": [
    "# Flask-tutorial project"
   ]
  },
  {
   "cell_type": "markdown",
   "id": "8298205f",
   "metadata": {},
   "source": [
    "ANNOTATED"
   ]
  },
  {
   "cell_type": "code",
   "execution_count": 12,
   "id": "83c01a72",
   "metadata": {},
   "outputs": [
    {
     "name": "stdout",
     "output_type": "stream",
     "text": [
      "Overwriting flask-tutorial/flaskr/__init__.py\n"
     ]
    }
   ],
   "source": [
    "%%writefile flask-tutorial/flaskr/__init__.py\n",
    "import os\n",
    "\n",
    "from flask import Flask\n",
    "\n",
    "def create_app(test_config=None): # NOTE: create_app is the application factory function\n",
    "    # create and configure the app\n",
    "    app = Flask(__name__, instance_relative_config=True)\n",
    "    # BREAKDOWN:\n",
    "    # __name__ is the name of the current module: __init__ .Provides the module's path too\n",
    "    # instance folder is outside flaskr, config files relative to instance folder if True\n",
    "    \n",
    "    app.config.from_mapping( # NOTE: set up configuration settings\n",
    "        SECRET_KEY='dev', \n",
    "        DATABASE=os.path.join(app.instance_path, 'flaskr.sqlite'), \n",
    "    )\n",
    "    # BREAKDOWN:\n",
    "    # SECRET_KEY used to keep data safe, for deployment 'dev' should be replaced with a random key\n",
    "    # DATABASE is the SQLite DB pathway\n",
    "    \n",
    "    if test_config is None:\n",
    "        # load the instance config, if it exists, when not testing\n",
    "        app.config.from_pyfile('config.py', silent=True)\n",
    "        \n",
    "        # NOTE: takes config settings from 'config.py' (if exists) in instance folder (here: flask-tutorial/)    else:\n",
    "        # this can also be used to store real 'SECRET_KEY'\n",
    "        # load the test config if passed in\n",
    "        app.config.from_mapping(test_config)\n",
    "\n",
    "    # ensure the instance folder exists\n",
    "    try:\n",
    "        os.makedirs(app.instance_path)\n",
    "        # NOTE: Flask doesn't create instance folder by default. Needs manual creation\n",
    "    except OSError:\n",
    "        pass\n",
    "\n",
    "    # a simple page that says hello\n",
    "    @app.route('/')\n",
    "    # NOTE: create a simple route by binding an URL to a view function\n",
    "    def hello():\n",
    "        '''view function'''\n",
    "        return 'Hello, World!'\n",
    "\n",
    "    return app"
   ]
  },
  {
   "cell_type": "markdown",
   "id": "82c60c4c",
   "metadata": {},
   "source": [
    "ORIGINAL"
   ]
  },
  {
   "cell_type": "markdown",
   "id": "87ec2c69",
   "metadata": {},
   "source": [
    "Test\n",
    "\n",
    "```bash\n",
    "export FLASK_APP=flaskr\n",
    "export FLASK_ENV=development\n",
    "flask run\n",
    "```\n",
    "\n",
    "Execution works fine for original, but not for annotated version. "
   ]
  },
  {
   "cell_type": "code",
   "execution_count": 13,
   "id": "340e3fe2",
   "metadata": {},
   "outputs": [
    {
     "name": "stdout",
     "output_type": "stream",
     "text": [
      "Overwriting flask-tutorial/flaskr/__init__.py\n"
     ]
    }
   ],
   "source": [
    "%%writefile flask-tutorial/flaskr/__init__.py\n",
    "import os\n",
    "\n",
    "from flask import Flask\n",
    "\n",
    "def create_app(test_config=None):\n",
    "    # create and configure the app\n",
    "    app = Flask(__name__, instance_relative_config=True)\n",
    "    app.config.from_mapping(\n",
    "        SECRET_KEY='dev',\n",
    "        DATABASE=os.path.join(app.instance_path, 'flaskr.sqlite'),\n",
    "    )\n",
    "\n",
    "    if test_config is None:\n",
    "        # load the instance config, if it exists, when not testing\n",
    "        app.config.from_pyfile('config.py', silent=True)\n",
    "    else:\n",
    "        # load the test config if passed in\n",
    "        app.config.from_mapping(test_config)\n",
    "\n",
    "    # ensure the instance folder exists\n",
    "    try:\n",
    "        os.makedirs(app.instance_path)\n",
    "    except OSError:\n",
    "        pass\n",
    "\n",
    "    # a simple page that says hello\n",
    "    @app.route('/')\n",
    "    def hello():\n",
    "        return 'Hello, World!'\n",
    "\n",
    "    return app"
   ]
  },
  {
   "cell_type": "code",
   "execution_count": 6,
   "id": "a20d92cf",
   "metadata": {},
   "outputs": [
    {
     "name": "stdout",
     "output_type": "stream",
     "text": [
      "Overwriting flask-tutorial/flaskr/mytest.py\n"
     ]
    }
   ],
   "source": [
    "%%writefile flask-tutorial/flaskr/mytest.py\n",
    "import os\n",
    "\n",
    "from flask import Flask\n",
    "\n",
    "\n",
    "def create_app(test_config=None):\n",
    "    # create and configure the app\n",
    "    app = Flask(__name__, instance_relative_config=True)\n",
    "    app.config.from_mapping(\n",
    "        SECRET_KEY='dev',\n",
    "        DATABASE=os.path.join(app.instance_path, 'flaskr.sqlite'),\n",
    "    )\n",
    "\n",
    "    if test_config is None:\n",
    "        # load the instance config, if it exists, when not testing\n",
    "        app.config.from_pyfile('config.py', silent=True)\n",
    "    else:\n",
    "        # load the test config if passed in\n",
    "        app.config.from_mapping(test_config)\n",
    "\n",
    "    # ensure the instance folder exists\n",
    "    try:\n",
    "        os.makedirs(app.instance_path)\n",
    "    except OSError:\n",
    "        pass\n",
    "\n",
    "    # a simple page that says hello\n",
    "    @app.route('/')\n",
    "    def hello():\n",
    "        return 'Hello, World!'\n",
    "\n",
    "    return app\n",
    "\n",
    "\n",
    "if __name__ == \"__main__\":\n",
    "    app = create_app()\n",
    "    app.run(debug = True, host = \"0.0.0.0\", port = 3000)"
   ]
  },
  {
   "cell_type": "code",
   "execution_count": null,
   "id": "f2beac41",
   "metadata": {},
   "outputs": [],
   "source": []
  },
  {
   "cell_type": "code",
   "execution_count": null,
   "id": "551c76c3",
   "metadata": {},
   "outputs": [],
   "source": []
  },
  {
   "cell_type": "code",
   "execution_count": null,
   "id": "ada0a142",
   "metadata": {},
   "outputs": [],
   "source": []
  },
  {
   "cell_type": "code",
   "execution_count": null,
   "id": "adbbf582",
   "metadata": {},
   "outputs": [],
   "source": []
  },
  {
   "cell_type": "code",
   "execution_count": null,
   "id": "c94fe6c8",
   "metadata": {},
   "outputs": [],
   "source": []
  },
  {
   "cell_type": "code",
   "execution_count": null,
   "id": "3413401a",
   "metadata": {},
   "outputs": [],
   "source": []
  },
  {
   "cell_type": "code",
   "execution_count": null,
   "id": "085d4ba5",
   "metadata": {},
   "outputs": [],
   "source": []
  }
 ],
 "metadata": {
  "kernelspec": {
   "display_name": "Python 3",
   "language": "python",
   "name": "python3"
  },
  "language_info": {
   "codemirror_mode": {
    "name": "ipython",
    "version": 3
   },
   "file_extension": ".py",
   "mimetype": "text/x-python",
   "name": "python",
   "nbconvert_exporter": "python",
   "pygments_lexer": "ipython3",
   "version": "3.8.8"
  }
 },
 "nbformat": 4,
 "nbformat_minor": 5
}
